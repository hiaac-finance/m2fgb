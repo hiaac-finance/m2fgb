{
 "cells": [
  {
   "cell_type": "code",
   "execution_count": 41,
   "metadata": {},
   "outputs": [
    {
     "name": "stdout",
     "output_type": "stream",
     "text": [
      "The autoreload extension is already loaded. To reload it, use:\n",
      "  %reload_ext autoreload\n",
      "The line_profiler extension is already loaded. To reload it, use:\n",
      "  %reload_ext line_profiler\n"
     ]
    }
   ],
   "source": [
    "import sys\n",
    "sys.path.append(\"../scripts\")\n",
    "\n",
    "import data\n",
    "import experiments\n",
    "import models\n",
    "import utils\n",
    "\n",
    "\n",
    "%load_ext autoreload\n",
    "%autoreload 2\n",
    "\n",
    "# load code profiling\n",
    "%load_ext line_profiler"
   ]
  },
  {
   "cell_type": "code",
   "execution_count": 18,
   "metadata": {},
   "outputs": [
    {
     "name": "stdout",
     "output_type": "stream",
     "text": [
      "{'4_False': 0, '1_True': 1, '4_True': 2, '2_True': 3, '2_False': 4, '1_False': 5, '3_True': 6, '3_False': 7}\n"
     ]
    }
   ],
   "source": [
    "dataset = \"compas\"\n",
    "fold = 0\n",
    "X_train, A_train, Y_train, X_val, A_val, Y_val, X_test, A_test, Y_test =  data.get_fold(dataset, fold, 10, 8, 0)"
   ]
  },
  {
   "cell_type": "code",
   "execution_count": 35,
   "metadata": {},
   "outputs": [
    {
     "name": "stdout",
     "output_type": "stream",
     "text": [
      "467 ms ± 108 ms per loop (mean ± std. dev. of 7 runs, 1 loop each)\n"
     ]
    }
   ],
   "source": [
    "%%timeit\n",
    "model = models.M2FGB(fair_weight = 0.4, n_estimators=5)\n",
    "model.fit(X_train, Y_train, A_train)"
   ]
  },
  {
   "cell_type": "code",
   "execution_count": 39,
   "metadata": {},
   "outputs": [
    {
     "name": "stdout",
     "output_type": "stream",
     "text": [
      "22 ms ± 4.81 ms per loop (mean ± std. dev. of 7 runs, 100 loops each)\n"
     ]
    }
   ],
   "source": [
    "%%timeit\n",
    "model = models.M2FGB(fair_weight = 0.4, n_estimators=5)\n",
    "model.fit(X_train, Y_train, A_train)"
   ]
  },
  {
   "cell_type": "code",
   "execution_count": 10,
   "metadata": {},
   "outputs": [],
   "source": [
    "import lightgbm as lgb\n",
    "import numpy as np"
   ]
  },
  {
   "cell_type": "code",
   "execution_count": 16,
   "metadata": {},
   "outputs": [],
   "source": [
    "# fit\n",
    "\n",
    "X = X_train.values\n",
    "y = Y_train.values\n",
    "sensitive_attribute = A_train.values\n",
    "\n",
    "# sort X and y based on sensitive_attribute\n",
    "idx = np.argsort(sensitive_attribute)\n",
    "X = X[idx]\n",
    "y = y[idx]\n",
    "sensitive_attribute = sensitive_attribute[idx]\n",
    "\n",
    "\n",
    "I = models.get_subgroup_indicator_test(sensitive_attribute)\n",
    "subgroup = sensitive_attribute\n",
    "fairness_constraint = \"equalized_loss\"\n",
    "dual_learning = \"gradient_norm\"\n",
    "fair_weight = 0.5\n",
    "multiplier_learning_rate = 0.1\n",
    "\n",
    "\n",
    "group_losses = []\n",
    "mu_opt_list = [None]\n",
    "dtrain = lgb.Dataset(X, label=y)\n",
    "\n",
    "\n",
    "def custom_obj(predt, dtrain):\n",
    "    y_true = dtrain.get_label()\n",
    "    y_pred = 1 / (1 + np.exp(-predt))\n",
    "    y_pred = np.clip(y_pred, 1e-7, 1 - 1e-7)  # avoid log(0)\n",
    "    loss_group = models.logloss_group(y_pred, y_true, subgroup, fairness_constraint)\n",
    "    group_losses.append(loss_group)\n",
    "\n",
    "    if dual_learning == \"optim\":\n",
    "        # dual problem solved analytically\n",
    "        idx_biggest_loss = np.where(loss_group == np.max(loss_group))[0]\n",
    "        # if is more than one, randomly choose one\n",
    "        idx_biggest_loss = np.random.choice(idx_biggest_loss)\n",
    "        mu_opt = np.zeros(loss_group.shape[0])\n",
    "        mu_opt[idx_biggest_loss] = fair_weight\n",
    "\n",
    "    elif dual_learning == \"gradient\":\n",
    "        if mu_opt_list[0] is None:\n",
    "            mu_opt = np.zeros(loss_group.shape[0])\n",
    "        else:\n",
    "            mu_opt = mu_opt_list[-1].copy()\n",
    "        mu_opt += multiplier_learning_rate * fair_weight * loss_group\n",
    "\n",
    "    elif dual_learning == \"gradient_norm\":\n",
    "        if mu_opt_list[0] is None:\n",
    "            mu_opt = np.ones(loss_group.shape[0])\n",
    "        else:\n",
    "            mu_opt = mu_opt_list[-1].copy()\n",
    "\n",
    "        mu_opt += multiplier_learning_rate * loss_group\n",
    "        mu_opt = models.projection_to_simplex(mu_opt, z=fair_weight)\n",
    "\n",
    "    elif dual_learning == \"gradient_norm2\":\n",
    "        if mu_opt_list[0] is None:\n",
    "            mu_opt = np.ones(loss_group.shape[0])\n",
    "        else:\n",
    "            mu_opt = mu_opt_list[-1].copy()\n",
    "\n",
    "        mu_opt += multiplier_learning_rate * loss_group\n",
    "        mu_opt = mu_opt / np.sum(mu_opt) * fair_weight\n",
    "\n",
    "    if mu_opt_list[0] is None:\n",
    "        mu_opt_list[0] = mu_opt\n",
    "    else:\n",
    "        mu_opt_list.append(mu_opt)\n",
    "\n",
    "    grad_fair = models.logloss_group_grad(y_pred, y_true, fairness_constraint)\n",
    "    grad_fair = I * grad_fair.reshape(-1, 1) @ mu_opt\n",
    "\n",
    "    hess_fair = models.logloss_group_hess(y_pred, y_true, fairness_constraint)\n",
    "    hess_fair = I * hess_fair.reshape(-1, 1) @ mu_opt\n",
    "\n",
    "    grad = models.logloss_grad(y_pred, y_true)\n",
    "    hess = models.logloss_hessian(y_pred, y_true)\n",
    "\n",
    "    # It is not necessary to multiply fairness gradient by fair_weight because it is already included on mu\n",
    "    # grad = (1 - fair_weight) * grad + fair_weight * grad_fair\n",
    "    # hess = (1 - fair_weight) * hess + fair_weight * hess_fair\n",
    "\n",
    "    grad = (1 - fair_weight) * grad + grad_fair\n",
    "    hess = (1 - fair_weight) * hess + hess_fair\n",
    "\n",
    "    return grad, hess\n",
    "\n",
    "\n",
    "\n",
    "params = {\n",
    "    \"objective\": custom_obj,\n",
    "    \"learning_rate\": 0.1,\n",
    "    \"max_depth\": 6,\n",
    "    \"min_child_weight\": 1,\n",
    "    \"reg_lambda\": 1,\n",
    "    \"verbose\": -1,\n",
    "    \"random_seed\" : 0\n",
    "}\n",
    "\n",
    "def prof_function():\n",
    "    model_ = lgb.train(\n",
    "        params,\n",
    "        dtrain,\n",
    "        num_boost_round=100,\n",
    "    )\n"
   ]
  },
  {
   "cell_type": "code",
   "execution_count": 17,
   "metadata": {},
   "outputs": [
    {
     "name": "stdout",
     "output_type": "stream",
     "text": [
      "Timer unit: 1e-09 s\n",
      "\n",
      "Total time: 0.366325 s\n",
      "File: /tmp/ipykernel_9301/1815502925.py\n",
      "Function: custom_obj at line 27\n",
      "\n",
      "Line #      Hits         Time  Per Hit   % Time  Line Contents\n",
      "==============================================================\n",
      "    27                                           def custom_obj(predt, dtrain):\n",
      "    28       100     178789.0   1787.9      0.0      y_true = dtrain.get_label()\n",
      "    29       100   11331754.0 113317.5      3.1      y_pred = 1 / (1 + np.exp(-predt))\n",
      "    30       100    3262954.0  32629.5      0.9      y_pred = np.clip(y_pred, 1e-7, 1 - 1e-7)  # avoid log(0)\n",
      "    31       100   55101009.0 551010.1     15.0      loss_group = models.logloss_group(y_pred, y_true, subgroup, fairness_constraint)\n",
      "    32       100     120497.0   1205.0      0.0      group_losses.append(loss_group)\n",
      "    33                                           \n",
      "    34       100      76874.0    768.7      0.0      if dual_learning == \"optim\":\n",
      "    35                                                   # dual problem solved analytically\n",
      "    36                                                   idx_biggest_loss = np.where(loss_group == np.max(loss_group))[0]\n",
      "    37                                                   # if is more than one, randomly choose one\n",
      "    38                                                   idx_biggest_loss = np.random.choice(idx_biggest_loss)\n",
      "    39                                                   mu_opt = np.zeros(loss_group.shape[0])\n",
      "    40                                                   mu_opt[idx_biggest_loss] = fair_weight\n",
      "    41                                           \n",
      "    42       100      47505.0    475.1      0.0      elif dual_learning == \"gradient\":\n",
      "    43                                                   if mu_opt_list[0] is None:\n",
      "    44                                                       mu_opt = np.zeros(loss_group.shape[0])\n",
      "    45                                                   else:\n",
      "    46                                                       mu_opt = mu_opt_list[-1].copy()\n",
      "    47                                                   mu_opt += multiplier_learning_rate * fair_weight * loss_group\n",
      "    48                                           \n",
      "    49       100      51209.0    512.1      0.0      elif dual_learning == \"gradient_norm\":\n",
      "    50       100      73378.0    733.8      0.0          if mu_opt_list[0] is None:\n",
      "    51         1      16853.0  16853.0      0.0              mu_opt = np.ones(loss_group.shape[0])\n",
      "    52                                                   else:\n",
      "    53        99     253640.0   2562.0      0.1              mu_opt = mu_opt_list[-1].copy()\n",
      "    54                                           \n",
      "    55       100     792450.0   7924.5      0.2          mu_opt += multiplier_learning_rate * loss_group\n",
      "    56       100   13242046.0 132420.5      3.6          mu_opt = models.projection_to_simplex(mu_opt, z=fair_weight)\n",
      "    57                                           \n",
      "    58                                               elif dual_learning == \"gradient_norm2\":\n",
      "    59                                                   if mu_opt_list[0] is None:\n",
      "    60                                                       mu_opt = np.ones(loss_group.shape[0])\n",
      "    61                                                   else:\n",
      "    62                                                       mu_opt = mu_opt_list[-1].copy()\n",
      "    63                                           \n",
      "    64                                                   mu_opt += multiplier_learning_rate * loss_group\n",
      "    65                                                   mu_opt = mu_opt / np.sum(mu_opt) * fair_weight\n",
      "    66                                           \n",
      "    67       100      84083.0    840.8      0.0      if mu_opt_list[0] is None:\n",
      "    68         1        886.0    886.0      0.0          mu_opt_list[0] = mu_opt\n",
      "    69                                               else:\n",
      "    70        99      98560.0    995.6      0.0          mu_opt_list.append(mu_opt)\n",
      "    71                                           \n",
      "    72       100    1709729.0  17097.3      0.5      grad_fair = models.logloss_group_grad(y_pred, y_true, fairness_constraint)\n",
      "    73       100  201819493.0    2e+06     55.1      grad_fair = I * grad_fair.reshape(-1, 1) @ mu_opt\n",
      "    74                                           \n",
      "    75       100    3534309.0  35343.1      1.0      hess_fair = models.logloss_group_hess(y_pred, y_true, fairness_constraint)\n",
      "    76       100   64489782.0 644897.8     17.6      hess_fair = I * hess_fair.reshape(-1, 1) @ mu_opt\n",
      "    77                                           \n",
      "    78       100    2801122.0  28011.2      0.8      grad = models.logloss_grad(y_pred, y_true)\n",
      "    79       100    2347031.0  23470.3      0.6      hess = models.logloss_hessian(y_pred, y_true)\n",
      "    80                                           \n",
      "    81                                               # It is not necessary to multiply fairness gradient by fair_weight because it is already included on mu\n",
      "    82                                               # grad = (1 - fair_weight) * grad + fair_weight * grad_fair\n",
      "    83                                               # hess = (1 - fair_weight) * hess + fair_weight * hess_fair\n",
      "    84                                           \n",
      "    85       100    2625235.0  26252.3      0.7      grad = (1 - fair_weight) * grad + grad_fair\n",
      "    86       100    2176159.0  21761.6      0.6      hess = (1 - fair_weight) * hess + hess_fair\n",
      "    87                                           \n",
      "    88       100      90095.0    901.0      0.0      return grad, hess"
     ]
    }
   ],
   "source": [
    "%lprun -f custom_obj prof_function()"
   ]
  }
 ],
 "metadata": {
  "kernelspec": {
   "display_name": "Python 3 (ipykernel)",
   "language": "python",
   "name": "python3"
  },
  "language_info": {
   "codemirror_mode": {
    "name": "ipython",
    "version": 3
   },
   "file_extension": ".py",
   "mimetype": "text/x-python",
   "name": "python",
   "nbconvert_exporter": "python",
   "pygments_lexer": "ipython3",
   "version": "3.10.12"
  }
 },
 "nbformat": 4,
 "nbformat_minor": 2
}
