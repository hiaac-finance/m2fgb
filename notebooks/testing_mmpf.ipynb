{
 "cells": [
  {
   "cell_type": "code",
   "execution_count": 2,
   "metadata": {},
   "outputs": [],
   "source": [
    "import sys\n",
    "sys.path.append(\"../MMPF\")\n",
    "sys.path.append(\"../scripts\")\n",
    "\n",
    "import data\n",
    "import utils\n",
    "import experiments\n",
    "from MinimaxParetoFair.MMPF_trainer import APSTAR, SKLearn_Weighted_LLR\n",
    "\n",
    "\n",
    "from sklearn.compose import ColumnTransformer\n",
    "from sklearn.pipeline import Pipeline\n",
    "from sklearn.preprocessing import StandardScaler, OneHotEncoder\n",
    "\n",
    "import numpy as np\n",
    "\n",
    "%load_ext autoreload\n",
    "%autoreload 2"
   ]
  },
  {
   "cell_type": "code",
   "execution_count": 25,
   "metadata": {},
   "outputs": [
    {
     "name": "stdout",
     "output_type": "stream",
     "text": [
      "{'Female_False': 0, 'Male_False': 1, 'Male_True': 2, 'Female_True': 3}\n"
     ]
    }
   ],
   "source": [
    "dataset = \"german\"\n",
    "X_train, Y_train, X_val, Y_val, X_test, Y_test =  data.get_fold(dataset, 5, 10, 0)\n",
    "A_train, A_val, A_test = experiments.get_subgroup_feature(dataset, X_train, X_val, X_test, 4)\n",
    "col_trans = ColumnTransformer(\n",
    "    [\n",
    "        (\"numeric\", StandardScaler(), data.NUM_FEATURES[dataset]),\n",
    "        (\n",
    "            \"categorical\",\n",
    "            OneHotEncoder(\n",
    "                drop=\"if_binary\", sparse_output=False, handle_unknown=\"ignore\"\n",
    "            ),\n",
    "            data.CAT_FEATURES[dataset],\n",
    "        ),\n",
    "    ],\n",
    "    verbose_feature_names_out=False,\n",
    ")\n",
    "col_trans.set_output(transform=\"pandas\")\n",
    "\n",
    "preprocess = Pipeline([(\"preprocess\", col_trans)])\n",
    "preprocess.fit(X_train)\n",
    "X_train = preprocess.transform(X_train)\n",
    "X_val = preprocess.transform(X_val)\n",
    "X_test = preprocess.transform(X_test)"
   ]
  },
  {
   "cell_type": "code",
   "execution_count": 26,
   "metadata": {},
   "outputs": [],
   "source": [
    "model = SKLearn_Weighted_LLR(\n",
    "    X_train.values,\n",
    "    Y_train.values,\n",
    "    A_train.values,\n",
    "    X_val.values,\n",
    "    Y_val.values,\n",
    "    A_val.values,\n",
    "    C_reg = 1e-2\n",
    ")"
   ]
  },
  {
   "cell_type": "code",
   "execution_count": 27,
   "metadata": {},
   "outputs": [
    {
     "name": "stdout",
     "output_type": "stream",
     "text": [
      "patience counter: 199 total iterations: 201\n",
      "-----------------------------------------\n"
     ]
    }
   ],
   "source": [
    "mu_ini = np.ones(len(A_train.unique()))\n",
    "mu_ini /= mu_ini.sum()\n",
    "\n",
    "results = APSTAR(model, mu_ini, niter=200, max_patience=200, Kini=1,\n",
    "                                      Kmin=20, alpha=0.5, verbose=False)\n",
    "\n",
    "mu_best = results['mu_best_list'][-1]\n",
    "model.weighted_fit(X_train,Y_train,A_train, mu_best)"
   ]
  },
  {
   "cell_type": "code",
   "execution_count": 29,
   "metadata": {},
   "outputs": [],
   "source": [
    "Y_test_pred = (model.predict_proba(X_test)[:, 1] > 0.5).astype(int)"
   ]
  },
  {
   "cell_type": "code",
   "execution_count": 30,
   "metadata": {},
   "outputs": [
    {
     "data": {
      "text/plain": [
       "0.5"
      ]
     },
     "execution_count": 30,
     "metadata": {},
     "output_type": "execute_result"
    }
   ],
   "source": [
    "utils.min_balanced_accuracy(Y_test, Y_test_pred, A_test)"
   ]
  },
  {
   "cell_type": "code",
   "execution_count": null,
   "metadata": {},
   "outputs": [],
   "source": [
    "from sklearn.base import BaseEstimator, ClassifierMixin\n",
    "from sklearn.utils.validation import check_X_y, check_array, check_is_fitted"
   ]
  },
  {
   "cell_type": "code",
   "execution_count": null,
   "metadata": {},
   "outputs": [],
   "source": [
    "class MinimaxPareto(BaseEstimator, ClassifierMixin):\n",
    "    def __init__(\n",
    "        self,\n",
    "        n_iterations=100,\n",
    "        C = 1.0,\n",
    "    ):\n",
    "        self.n_iterations = n_iterations\n",
    "        self.C = C\n",
    "        \n",
    "\n",
    "    def fit(self, X, y, sensitive_attribute):\n",
    "        X, y = check_X_y(X, y)\n",
    "        # insert sensitive attribute as first column of the dataframe\n",
    "        self.classes_ = np.unique(y)\n",
    "        \n",
    "        model = SKLearn_Weighted_LLR(\n",
    "            X.values,\n",
    "            y.values,\n",
    "            sensitive_attribute.values,\n",
    "            X.values,\n",
    "            y.values,\n",
    "            sensitive_attribute.values,\n",
    "            C_reg = self.C\n",
    "        )\n",
    "        mu_ini = np.ones(len(sensitive_attribute.unique()))\n",
    "        mu_ini /= mu_ini.sum()\n",
    "        results = APSTAR(model, mu_ini, niter=self.n_iterations, max_patience=200, Kini=1,\n",
    "                                      Kmin=20, alpha=0.5, verbose=False)\n",
    "\n",
    "        mu_best = results['mu_best_list'][-1]\n",
    "        model.weighted_fit(X,y,sensitive_attribute, mu_best)\n",
    "        self.model = model\n",
    "        return self\n",
    "        \n",
    "\n",
    "    def predict(self, X):\n",
    "        check_is_fitted(self)\n",
    "        X = check_array(X)\n",
    "        predictions = self.predict_proba(X)[:, 1]\n",
    "        return (predictions > 0.5).astype(int)\n",
    "        \n",
    "\n",
    "    def predict_proba(self, X):\n",
    "        check_is_fitted(self)\n",
    "        X = check_array(X)\n",
    "        return self.model.predict_proba(X)\n",
    "        "
   ]
  }
 ],
 "metadata": {
  "kernelspec": {
   "display_name": "Python 3 (ipykernel)",
   "language": "python",
   "name": "python3"
  },
  "language_info": {
   "codemirror_mode": {
    "name": "ipython",
    "version": 3
   },
   "file_extension": ".py",
   "mimetype": "text/x-python",
   "name": "python",
   "nbconvert_exporter": "python",
   "pygments_lexer": "ipython3",
   "version": "3.10.12"
  }
 },
 "nbformat": 4,
 "nbformat_minor": 2
}
