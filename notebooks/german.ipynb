{
 "cells": [
  {
   "cell_type": "code",
   "execution_count": 12,
   "metadata": {},
   "outputs": [],
   "source": [
    "from sklearn.preprocessing import StandardScaler, OneHotEncoder\n",
    "from sklearn.compose import ColumnTransformer\n",
    "from sklearn.pipeline import Pipeline\n",
    "import sys\n",
    "sys.path.append(\"../scripts\")\n",
    "\n",
    "import data\n",
    "import models\n",
    "import utils"
   ]
  },
  {
   "cell_type": "code",
   "execution_count": 13,
   "metadata": {},
   "outputs": [],
   "source": [
    "X_train, y_train, X_val, y_val, X_test, y_test = data.get_fold(\"german\", 0)\n",
    "A_train = X_train.Gender == \"Male\"\n",
    "A_val = X_val.Gender == \"Male\"\n",
    "A_test = X_test.Gender == \"Male\"\n",
    "\n",
    "col_trans = ColumnTransformer(\n",
    "    [\n",
    "        (\"numeric\", StandardScaler(), data.NUM_FEATURES[\"german\"]),\n",
    "        (\n",
    "            \"categorical\",\n",
    "            OneHotEncoder(\n",
    "                drop=\"if_binary\", sparse_output=False, handle_unknown=\"ignore\"\n",
    "            ),\n",
    "            data.CAT_FEATURES[\"german\"],\n",
    "        ),\n",
    "    ],\n",
    "    verbose_feature_names_out=False,\n",
    ")\n",
    "col_trans.set_output(transform=\"pandas\")\n",
    "preprocess = Pipeline([(\"preprocess\", col_trans)])\n",
    "preprocess.fit(X_train)\n",
    "X_train = preprocess.transform(X_train)\n",
    "X_val = preprocess.transform(X_val)\n",
    "X_test = preprocess.transform(X_test)"
   ]
  },
  {
   "cell_type": "code",
   "execution_count": 17,
   "metadata": {},
   "outputs": [],
   "source": [
    "model = models.M2FGB()\n",
    "model.fit(X_train, y_train, A_train);\n",
    "y_test_pred = model.predict(X_test)"
   ]
  },
  {
   "cell_type": "code",
   "execution_count": 21,
   "metadata": {},
   "outputs": [
    {
     "data": {
      "text/plain": [
       "0.12"
      ]
     },
     "execution_count": 21,
     "metadata": {},
     "output_type": "execute_result"
    }
   ],
   "source": [
    "utils.equal_opportunity_score(y_test, y_test_pred, A_test)"
   ]
  }
 ],
 "metadata": {
  "kernelspec": {
   "display_name": "dual_fair_boost",
   "language": "python",
   "name": "python3"
  },
  "language_info": {
   "codemirror_mode": {
    "name": "ipython",
    "version": 3
   },
   "file_extension": ".py",
   "mimetype": "text/x-python",
   "name": "python",
   "nbconvert_exporter": "python",
   "pygments_lexer": "ipython3",
   "version": "3.8.17"
  }
 },
 "nbformat": 4,
 "nbformat_minor": 2
}
