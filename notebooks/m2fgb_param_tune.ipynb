{
 "cells": [
  {
   "cell_type": "code",
   "execution_count": 13,
   "metadata": {},
   "outputs": [
    {
     "name": "stdout",
     "output_type": "stream",
     "text": [
      "The autoreload extension is already loaded. To reload it, use:\n",
      "  %reload_ext autoreload\n"
     ]
    }
   ],
   "source": [
    "import numpy as np\n",
    "import matplotlib.pyplot as plt\n",
    "from sklearn.metrics import log_loss\n",
    "from sklearn.model_selection import KFold\n",
    "import optuna\n",
    "import optuna.visualization as vis\n",
    "from optuna.samplers import TPESampler\n",
    "import sys\n",
    "sys.path.append(\"../scripts\")\n",
    "\n",
    "import data\n",
    "import utils\n",
    "import models\n",
    "\n",
    "%load_ext autoreload\n",
    "%autoreload 2"
   ]
  },
  {
   "cell_type": "code",
   "execution_count": 3,
   "metadata": {},
   "outputs": [
    {
     "name": "stdout",
     "output_type": "stream",
     "text": [
      "{'Other, Other': 0, 'African-American, Between 25 and 45': 1, 'African-American, Other': 2, 'Other, Between 25 and 45': 3, 'Caucasian, Between 25 and 45': 4, 'Caucasian, Other': 5}\n"
     ]
    }
   ],
   "source": [
    "seed = 42\n",
    "(\n",
    "    X_train,\n",
    "    A_train,\n",
    "    Y_train,\n",
    "    X_val,\n",
    "    A_val,\n",
    "    Y_val,\n",
    "    X_test,\n",
    "    A_test,\n",
    "    Y_test,\n",
    ") = data.get_strat_split(\"compas\", 6, 20, seed)\n",
    "n_trials = 100"
   ]
  },
  {
   "cell_type": "code",
   "execution_count": 4,
   "metadata": {},
   "outputs": [],
   "source": [
    "# join train and validation\n",
    "X_train = np.concatenate((X_train, X_val))\n",
    "A_train = np.concatenate((A_train, A_val))\n",
    "Y_train = np.concatenate((Y_train, Y_val))"
   ]
  },
  {
   "cell_type": "code",
   "execution_count": 10,
   "metadata": {},
   "outputs": [],
   "source": [
    "def mse(y_true, y_pred):\n",
    "    return np.mean((y_true - y_pred) ** 2)"
   ]
  },
  {
   "cell_type": "code",
   "execution_count": 11,
   "metadata": {},
   "outputs": [],
   "source": [
    "def get_perf_fair(model, X_train, Y_train, A_train, X_val, Y_val, A_val):\n",
    "    if np.unique(Y_train).shape[0] == 2:\n",
    "        is_classification = True\n",
    "    else:\n",
    "        is_classification = False\n",
    "\n",
    "    if is_classification:\n",
    "        y_train_score = model.predict_proba(X_train)[:, 1]\n",
    "        y_val_score = model.predict_proba(X_val)[:, 1]\n",
    "        train_metrics = [\n",
    "            log_loss(Y_train, y_train_score),\n",
    "            utils.max_logloss_score(Y_train, y_train_score, A_train)\n",
    "        ]\n",
    "        val_metrics = [\n",
    "            log_loss(Y_val, y_val_score),\n",
    "            utils.max_logloss_score(Y_val, y_val_score, A_val)\n",
    "        ]\n",
    "    else:\n",
    "\n",
    "        y_train_pred = model.predict(X_train)\n",
    "        y_val_pred = model.predict(X_val)\n",
    "        train_metrics = [\n",
    "            mse(Y_train, y_train_pred),\n",
    "            utils.max_mse(Y_train, y_train_pred, A_train),\n",
    "        ]\n",
    "        val_metrics = [\n",
    "           mse(Y_val, y_val_pred),\n",
    "            utils.max_mse(Y_val, y_val_pred, A_val),\n",
    "        ]\n",
    "    train_metrics = [np.round(x, 4) for x in train_metrics]\n",
    "    val_metrics = [np.round(x, 4) for x in val_metrics]\n",
    "\n",
    "    return train_metrics, val_metrics"
   ]
  },
  {
   "cell_type": "markdown",
   "metadata": {},
   "source": [
    "## LGBM Baseline"
   ]
  },
  {
   "cell_type": "code",
   "execution_count": 12,
   "metadata": {},
   "outputs": [],
   "source": [
    "param_space = {\n",
    "    \"n_estimators\": {\"type\": \"int\", \"low\": 10, \"high\": 1000, \"log\": True},\n",
    "    \"learning_rate\": {\"type\": \"float\", \"low\": 1e-3, \"high\": 0.5, \"log\": True},\n",
    "    \"num_leaves\": {\"type\": \"int\", \"low\": 2, \"high\": 256},\n",
    "    \"max_depth\": {\"type\": \"int\", \"low\": 2, \"high\": 10},\n",
    "    #\"min_child_samples\": {\"type\": \"int\", \"low\": 5, \"high\": 100},\n",
    "    \"min_child_weight\": {\"type\": \"float\", \"low\": 1e-3, \"high\": 1e4, \"log\": True},\n",
    "    #\"reg_alpha\": {\"type\": \"float\", \"low\": 1e-3, \"high\": 1e4, \"log\": True},\n",
    "    \"reg_lambda\": {\"type\": \"float\", \"low\": 1e-3, \"high\": 1e4, \"log\": True},\n",
    "}"
   ]
  },
  {
   "cell_type": "markdown",
   "metadata": {},
   "source": [
    "### Best results if maximizing performance"
   ]
  },
  {
   "cell_type": "code",
   "execution_count": null,
   "metadata": {},
   "outputs": [],
   "source": [
    "def run_trial(trial, X_train, Y_train, A_train, model_class, param_space):\n",
    "    \"\"\"Function to run a single trial of optuna.\"\"\"\n",
    "    params = {}\n",
    "    for name, values in param_space.items():\n",
    "        if values[\"type\"] == \"int\":\n",
    "            values_cp = {n: v for n, v in values.items() if n != \"type\"}\n",
    "            params[name] = trial.suggest_int(name, **values_cp)\n",
    "        elif values[\"type\"] == \"categorical\":\n",
    "            values_cp = {n: v for n, v in values.items() if n != \"type\"}\n",
    "            params[name] = trial.suggest_categorical(name, **values_cp)\n",
    "        elif values[\"type\"] == \"float\":\n",
    "            values_cp = {n: v for n, v in values.items() if n != \"type\"}\n",
    "            params[name] = trial.suggest_float(name, **values_cp)\n",
    "\n",
    "    is_classification = np.unique(Y_train).shape[0] == 2\n",
    "    model = model_class(**params)\n",
    "    kf = KFold(n_splits=4, shuffle=True, random_state=seed)\n",
    "    val_metrics = []\n",
    "\n",
    "    for train_index, val_index in kf.split(X_train):\n",
    "        X_train_fold, X_val_fold = X_train[train_index], X_train[val_index]\n",
    "        Y_train_fold, Y_val_fold = Y_train[train_index], Y_train[val_index]\n",
    "        A_train_fold, A_val_fold = A_train[train_index], A_train[val_index]\n",
    "        model.fit(X_train_fold, Y_train_fold, A_train_fold)\n",
    "        if is_classification:\n",
    "            Y_pred = model.predict_proba(X_val_fold)[:, 1]\n",
    "            val_metrics.append(log_loss(Y_val_fold, Y_pred))\n",
    "        else:\n",
    "            Y_pred = model.predict(X_val_fold)\n",
    "            val_metrics.append(mse(Y_val_fold, Y_pred))\n",
    "\n",
    "    return np.mean(val_metrics)\n",
    "\n",
    "\n",
    "#model_class = models.LGBMRegressor\n",
    "model_class = models.LGBMClassifier\n",
    "study = optuna.create_study(direction=\"minimize\")\n",
    "objective = lambda trial: run_trial(trial, X_train, Y_train, A_train, model_class, param_space)\n",
    "study.optimize(\n",
    "    objective,\n",
    "    n_trials=100,\n",
    "    n_jobs = 10,\n",
    "    show_progress_bar = True\n",
    ")\n",
    "model = model_class(**study.best_params)\n",
    "model.fit(X_train, Y_train, A_train)"
   ]
  },
  {
   "cell_type": "code",
   "execution_count": 17,
   "metadata": {},
   "outputs": [
    {
     "data": {
      "text/plain": [
       "([0.6035, 0.6434], [0.6121, 0.6509])"
      ]
     },
     "execution_count": 17,
     "metadata": {},
     "output_type": "execute_result"
    }
   ],
   "source": [
    "get_perf_fair(model, X_train, Y_train, A_train, X_test, Y_test, A_test)"
   ]
  },
  {
   "cell_type": "markdown",
   "metadata": {},
   "source": [
    "### Best results if maximizing fairness"
   ]
  },
  {
   "cell_type": "code",
   "execution_count": null,
   "metadata": {},
   "outputs": [],
   "source": [
    "def run_trial(trial, X_train, Y_train, A_train, model_class, param_space):\n",
    "    \"\"\"Function to run a single trial of optuna.\"\"\"\n",
    "    params = {}\n",
    "    for name, values in param_space.items():\n",
    "        if values[\"type\"] == \"int\":\n",
    "            values_cp = {n: v for n, v in values.items() if n != \"type\"}\n",
    "            params[name] = trial.suggest_int(name, **values_cp)\n",
    "        elif values[\"type\"] == \"categorical\":\n",
    "            values_cp = {n: v for n, v in values.items() if n != \"type\"}\n",
    "            params[name] = trial.suggest_categorical(name, **values_cp)\n",
    "        elif values[\"type\"] == \"float\":\n",
    "            values_cp = {n: v for n, v in values.items() if n != \"type\"}\n",
    "            params[name] = trial.suggest_float(name, **values_cp)\n",
    "\n",
    "    is_classification = np.unique(Y_train).shape[0] == 2\n",
    "    model = model_class(**params)\n",
    "    kf = KFold(n_splits=4, shuffle=True, random_state=seed)\n",
    "    val_metrics = []\n",
    "\n",
    "    for train_index, val_index in kf.split(X_train):\n",
    "        X_train_fold, X_val_fold = X_train[train_index], X_train[val_index]\n",
    "        Y_train_fold, Y_val_fold = Y_train[train_index], Y_train[val_index]\n",
    "        A_train_fold, A_val_fold = A_train[train_index], A_train[val_index]\n",
    "        model.fit(X_train_fold, Y_train_fold, A_train_fold)\n",
    "        if is_classification:\n",
    "            Y_pred = model.predict_proba(X_val_fold)[:, 1]\n",
    "            val_metrics.append(utils.max_logloss_score(Y_val_fold, Y_pred, A_val_fold))\n",
    "        else:\n",
    "            Y_pred = model.predict(X_val_fold)\n",
    "            val_metrics.append(utils.max_mse(Y_val_fold, Y_pred, A_val_fold))\n",
    "\n",
    "    return np.mean(val_metrics)\n",
    "\n",
    "\n",
    "#model_class = models.LGBMRegressor\n",
    "model_class = models.LGBMClassifier\n",
    "study = optuna.create_study(direction=\"minimize\")\n",
    "objective = lambda trial: run_trial(trial, X_train, Y_train, A_train, model_class, param_space)\n",
    "study.optimize(\n",
    "    objective,\n",
    "    n_trials=100,\n",
    "    n_jobs = 10,\n",
    "    show_progress_bar = True\n",
    ")\n",
    "model = model_class(**study.best_params)\n",
    "model.fit(X_train, Y_train, A_train)"
   ]
  },
  {
   "cell_type": "code",
   "execution_count": 21,
   "metadata": {},
   "outputs": [
    {
     "name": "stdout",
     "output_type": "stream",
     "text": [
      "{'n_estimators': 16, 'learning_rate': 0.16407604089186684, 'num_leaves': 223, 'max_depth': 4, 'min_child_weight': 1.2396173996004392, 'reg_lambda': 0.7156750275240331}\n"
     ]
    },
    {
     "data": {
      "text/plain": [
       "([0.6022, 0.6417], [0.6096, 0.6421])"
      ]
     },
     "execution_count": 21,
     "metadata": {},
     "output_type": "execute_result"
    }
   ],
   "source": [
    "print(study.best_params)\n",
    "get_perf_fair(model, X_train, Y_train, A_train, X_test, Y_test, A_test)"
   ]
  },
  {
   "cell_type": "markdown",
   "metadata": {},
   "source": [
    "## M²FGB"
   ]
  },
  {
   "cell_type": "markdown",
   "metadata": {},
   "source": [
    "### Maximizing fairness"
   ]
  },
  {
   "cell_type": "code",
   "execution_count": 23,
   "metadata": {},
   "outputs": [],
   "source": [
    "def run_trial(trial, X_train, Y_train, A_train, model_class, param_space):\n",
    "    \"\"\"Function to run a single trial of optuna.\"\"\"\n",
    "    params = {}\n",
    "    for name, values in param_space.items():\n",
    "        if values[\"type\"] == \"int\":\n",
    "            values_cp = {n: v for n, v in values.items() if n != \"type\"}\n",
    "            params[name] = trial.suggest_int(name, **values_cp)\n",
    "        elif values[\"type\"] == \"categorical\":\n",
    "            values_cp = {n: v for n, v in values.items() if n != \"type\"}\n",
    "            params[name] = trial.suggest_categorical(name, **values_cp)\n",
    "        elif values[\"type\"] == \"float\":\n",
    "            values_cp = {n: v for n, v in values.items() if n != \"type\"}\n",
    "            params[name] = trial.suggest_float(name, **values_cp)\n",
    "\n",
    "    is_classification = np.unique(Y_train).shape[0] == 2\n",
    "    model = model_class(**params)\n",
    "    kf = KFold(n_splits=4, shuffle=True, random_state=seed)\n",
    "    val_metrics = []\n",
    "\n",
    "    for train_index, val_index in kf.split(X_train):\n",
    "        X_train_fold, X_val_fold = X_train[train_index], X_train[val_index]\n",
    "        Y_train_fold, Y_val_fold = Y_train[train_index], Y_train[val_index]\n",
    "        A_train_fold, A_val_fold = A_train[train_index], A_train[val_index]\n",
    "        model.fit(X_train_fold, Y_train_fold, A_train_fold)\n",
    "        if is_classification:\n",
    "            Y_pred = model.predict_proba(X_val_fold)[:, 1]\n",
    "            val_metrics.append(utils.max_logloss_score(Y_val_fold, Y_pred, A_val_fold))\n",
    "        else:\n",
    "            Y_pred = model.predict(X_val_fold)\n",
    "            val_metrics.append(utils.max_mse(Y_val_fold, Y_pred, A_val_fold))\n",
    "\n",
    "    return np.mean(val_metrics)"
   ]
  },
  {
   "cell_type": "markdown",
   "metadata": {},
   "source": [
    "### Tunning everything"
   ]
  },
  {
   "cell_type": "code",
   "execution_count": 24,
   "metadata": {},
   "outputs": [],
   "source": [
    "param_space = {\n",
    "    \"n_estimators\": {\"type\": \"int\", \"low\": 10, \"high\": 1000, \"log\": True},\n",
    "    \"learning_rate\": {\"type\": \"float\", \"low\": 1e-3, \"high\": 0.5, \"log\": True},\n",
    "    \"num_leaves\": {\"type\": \"int\", \"low\": 2, \"high\": 256},\n",
    "    \"max_depth\": {\"type\": \"int\", \"low\": 2, \"high\": 10},\n",
    "    #\"min_child_samples\": {\"type\": \"int\", \"low\": 5, \"high\": 100},\n",
    "    \"min_child_weight\": {\"type\": \"float\", \"low\": 1e-3, \"high\": 1e4, \"log\": True},\n",
    "    #\"reg_alpha\": {\"type\": \"float\", \"low\": 1e-3, \"high\": 1e4, \"log\": True},\n",
    "    \"reg_lambda\": {\"type\": \"float\", \"low\": 1e-3, \"high\": 1e4, \"log\": True},\n",
    "    \"multiplier_learning_rate\" : {\"type\" : \"float\", \"low\" : 1e-3, \"high\" : 0.5, \"log\" : True},\n",
    "    \"fair_weight\" : {\"type\" : \"float\", \"low\" : 1e-3, \"high\" : 1.0, \"log\" : True},\n",
    "}"
   ]
  },
  {
   "cell_type": "code",
   "execution_count": null,
   "metadata": {},
   "outputs": [],
   "source": [
    "def model_class(**params):\n",
    "    return models.M2FGBClassifier(dual_learning = \"gradient_norm2\", random_state = seed, **params)\n",
    "study = optuna.create_study(direction=\"minimize\")#, sampler = TPESampler(n_startup_trials=100, multivariate=True))\n",
    "objective = lambda trial: run_trial(trial, X_train, Y_train, A_train, model_class, param_space)\n",
    "study.optimize(\n",
    "    objective,\n",
    "    n_trials=100,\n",
    "    n_jobs = 10,\n",
    "    show_progress_bar = True\n",
    ")\n",
    "model = model_class(**study.best_params)\n",
    "#model.fit(X_train, Y_train, A_train, X_val,Y_val, A_val)\n",
    "model.fit(X_train, Y_train, A_train)"
   ]
  },
  {
   "cell_type": "code",
   "execution_count": 26,
   "metadata": {},
   "outputs": [
    {
     "name": "stdout",
     "output_type": "stream",
     "text": [
      "{'n_estimators': 129, 'learning_rate': 0.026246681205001305, 'num_leaves': 187, 'max_depth': 3, 'min_child_weight': 1.1380628983204732, 'reg_lambda': 0.4622155582638888, 'multiplier_learning_rate': 0.01784187065554556, 'fair_weight': 0.0015122176456112784}\n"
     ]
    },
    {
     "data": {
      "text/plain": [
       "([0.6048, 0.6431], [0.6057, 0.6281])"
      ]
     },
     "execution_count": 26,
     "metadata": {},
     "output_type": "execute_result"
    }
   ],
   "source": [
    "print(study.best_params)\n",
    "get_perf_fair(model, X_train, Y_train, A_train, X_val, Y_val, A_val)"
   ]
  },
  {
   "cell_type": "code",
   "execution_count": 28,
   "metadata": {},
   "outputs": [
    {
     "data": {
      "image/png": "[encoded data removed]",
      "text/plain": [
       "<Figure size 640x480 with 1 Axes>"
      ]
     },
     "metadata": {},
     "output_type": "display_data"
    }
   ],
   "source": [
    "for i in range(6):\n",
    "    plt.plot(model.group_losses[:, i])"
   ]
  },
  {
   "cell_type": "code",
   "execution_count": null,
   "metadata": {},
   "outputs": [],
   "source": [
    "vis.plot_slice(study)"
   ]
  },
  {
   "cell_type": "code",
   "execution_count": null,
   "metadata": {},
   "outputs": [],
   "source": [
    "vis.plot_param_importances(study)"
   ]
  },
  {
   "cell_type": "code",
   "execution_count": 31,
   "metadata": {},
   "outputs": [],
   "source": [
    "y_train_pred = model.predict_proba(X_train)[:, 1]\n",
    "thresh = utils.get_best_threshold(Y_train, y_train_pred)\n",
    "y_val_pred = model.predict_proba(X_val)[:, 1] > thresh\n",
    "y_train_pred = model.predict_proba(X_train)[:, 1] > thresh"
   ]
  },
  {
   "cell_type": "code",
   "execution_count": 32,
   "metadata": {},
   "outputs": [
    {
     "data": {
      "text/plain": [
       "0.634703196347032"
      ]
     },
     "execution_count": 32,
     "metadata": {},
     "output_type": "execute_result"
    }
   ],
   "source": [
    "1 - utils.min_accuracy(Y_val, y_val_pred, A_val)"
   ]
  },
  {
   "cell_type": "code",
   "execution_count": 33,
   "metadata": {},
   "outputs": [
    {
     "data": {
      "text/plain": [
       "0.6331713826969994"
      ]
     },
     "execution_count": 33,
     "metadata": {},
     "output_type": "execute_result"
    }
   ],
   "source": [
    "1 - utils.min_balanced_accuracy(Y_val, y_val_pred, A_val)"
   ]
  }
 ],
 "metadata": {
  "kernelspec": {
   "display_name": "Python 3 (ipykernel)",
   "language": "python",
   "name": "python3"
  }
 },
 "nbformat": 4,
 "nbformat_minor": 2
}
