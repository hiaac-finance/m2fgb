{
 "cells": [
  {
   "cell_type": "code",
   "execution_count": 6,
   "metadata": {},
   "outputs": [
    {
     "name": "stdout",
     "output_type": "stream",
     "text": [
      "The autoreload extension is already loaded. To reload it, use:\n",
      "  %reload_ext autoreload\n"
     ]
    }
   ],
   "source": [
    "import numpy as np\n",
    "import pandas as pd\n",
    "import matplotlib.pyplot as plt\n",
    "from sklearn.metrics import log_loss, accuracy_score\n",
    "from sklearn.model_selection import KFold\n",
    "import optuna\n",
    "import optuna.visualization as vis\n",
    "from optuna.samplers import TPESampler\n",
    "import sys\n",
    "sys.path.append(\"../scripts\")\n",
    "\n",
    "import data\n",
    "import utils\n",
    "import models\n",
    "from hyperparam_spaces import PARAM_SPACES\n",
    "\n",
    "%load_ext autoreload\n",
    "%autoreload 2"
   ]
  },
  {
   "cell_type": "code",
   "execution_count": 7,
   "metadata": {},
   "outputs": [],
   "source": [
    "optuna.logging.set_verbosity(optuna.logging.WARNING)"
   ]
  },
  {
   "cell_type": "code",
   "execution_count": 8,
   "metadata": {},
   "outputs": [],
   "source": [
    "def run_trial(trial, X_train, Y_train, A_train, model_class, param_space, seed):\n",
    "    \"\"\"Function to run a single trial of optuna.\"\"\"\n",
    "    params = {}\n",
    "    for name, values in param_space.items():\n",
    "        if values[\"type\"] == \"int\":\n",
    "            values_cp = {n: v for n, v in values.items() if n != \"type\"}\n",
    "            params[name] = trial.suggest_int(name, **values_cp)\n",
    "        elif values[\"type\"] == \"categorical\":\n",
    "            values_cp = {n: v for n, v in values.items() if n != \"type\"}\n",
    "            params[name] = trial.suggest_categorical(name, **values_cp)\n",
    "        elif values[\"type\"] == \"float\":\n",
    "            values_cp = {n: v for n, v in values.items() if n != \"type\"}\n",
    "            params[name] = trial.suggest_float(name, **values_cp)\n",
    "\n",
    "    model = model_class(**params)\n",
    "    kf = KFold(n_splits=4, shuffle=True, random_state=seed)\n",
    "    val_metrics = []\n",
    "\n",
    "    for train_index, val_index in kf.split(X_train):\n",
    "        X_train_fold, X_val_fold = X_train[train_index], X_train[val_index]\n",
    "        Y_train_fold, Y_val_fold = Y_train[train_index], Y_train[val_index]\n",
    "        A_train_fold, A_val_fold = A_train[train_index], A_train[val_index]\n",
    "        model.fit(X_train_fold, Y_train_fold, A_train_fold)\n",
    "        Y_pred = model.predict_proba(X_val_fold)[:, 1] > 0.5\n",
    "        val_metrics.append(\n",
    "            utils.min_accuracy(Y_val_fold, Y_pred, A_val_fold)\n",
    "        )\n",
    "\n",
    "    return np.mean(val_metrics)\n",
    "\n",
    "\n",
    "def optimize_model(model_name, X_train, Y_train, A_train, X_test, Y_test, A_test, model_class, param_space, n_trials, seed):\n",
    "    study = optuna.create_study(direction=\"maximize\")\n",
    "    objective = lambda trial: run_trial(trial, X_train, Y_train, A_train, model_class, param_space, seed)\n",
    "    study.optimize(\n",
    "        objective,\n",
    "        n_trials=n_trials,\n",
    "        n_jobs = 10,\n",
    "        show_progress_bar = True\n",
    "    )\n",
    "    model = model_class(**study.best_params)\n",
    "    model.fit(X_train, Y_train, A_train)\n",
    "    Y_pred_train = model.predict_proba(X_train)[:, 1] > 0.5\n",
    "    Y_pred_test = model.predict_proba(X_test)[:, 1] > 0.5\n",
    "\n",
    "    result_dict = {\n",
    "        \"model\" : model_name,\n",
    "        \"acc_train\" : accuracy_score(Y_train, Y_pred_train),\n",
    "        \"acc_test\" : accuracy_score(Y_test, Y_pred_test),\n",
    "        \"min_acc_train\" : utils.min_accuracy(Y_train, Y_pred_train, A_train),\n",
    "        \"min_acc_test\" : utils.min_accuracy(Y_test, Y_pred_test, A_test),\n",
    "    }\n",
    "\n",
    "    return result_dict\n",
    "\n",
    "def run_ablation_study(args):\n",
    "    result = []\n",
    "    seed = args[\"seed\"]\n",
    "    (\n",
    "        X_train,\n",
    "        A_train,\n",
    "        Y_train,\n",
    "        X_val,\n",
    "        A_val,\n",
    "        Y_val,\n",
    "        X_test,\n",
    "        A_test,\n",
    "        Y_test,\n",
    "    ) = data.get_strat_split(args[\"dataset\"], args[\"n_groups\"], 20, seed)\n",
    "\n",
    "    # join train and validation\n",
    "    X_train = np.concatenate((X_train, X_val))\n",
    "    A_train = np.concatenate((A_train, A_val))\n",
    "    Y_train = np.concatenate((Y_train, Y_val))\n",
    "\n",
    "\n",
    "    # fitting m2fgb\n",
    "    def model_class(**params):\n",
    "        return models.M2FGBClassifier(random_state = seed, **params)\n",
    "    result_dict = optimize_model(\n",
    "        \"M2FGBClassifier\",\n",
    "        X_train,\n",
    "        Y_train,\n",
    "        A_train,\n",
    "        X_test,\n",
    "        Y_test,\n",
    "        A_test,\n",
    "        model_class,\n",
    "        PARAM_SPACES[\"M2FGBClassifier\"],\n",
    "        args[\"n_trials\"],\n",
    "        seed\n",
    "    )\n",
    "    result.append(result_dict)\n",
    "\n",
    "\n",
    "\n",
    "\n",
    "    # fitting lgbm\n",
    "    def model_class(**params):\n",
    "        return models.LGBMClassifier(random_state = seed, **params)\n",
    "    result_dict = optimize_model(\n",
    "        \"LGBMClassifier\",\n",
    "        X_train,\n",
    "        Y_train,\n",
    "        A_train,\n",
    "        X_test,\n",
    "        Y_test,\n",
    "        A_test,\n",
    "        model_class,\n",
    "        PARAM_SPACES[\"LGBMClassifier\"],\n",
    "        args[\"n_trials\"],\n",
    "        seed\n",
    "    )\n",
    "    result.append(result_dict)\n",
    "\n",
    "    \n",
    "\n",
    "\n",
    "    return result\n"
   ]
  },
  {
   "cell_type": "code",
   "execution_count": 9,
   "metadata": {},
   "outputs": [],
   "source": [
    "seed_list = [\n",
    "    0, 1, 2, 3, 4, 5, 6, 7, 8, 9\n",
    "]"
   ]
  },
  {
   "cell_type": "code",
   "execution_count": null,
   "metadata": {},
   "outputs": [],
   "source": [
    "results = []\n",
    "\n",
    "for seed in seed_list:\n",
    "    results += run_ablation_study({\n",
    "        \"dataset\" : \"german\",\n",
    "        \"n_groups\" : 4,\n",
    "        \"n_trials\" : 100,\n",
    "        \"seed\" : seed\n",
    "    })"
   ]
  },
  {
   "cell_type": "code",
   "execution_count": 13,
   "metadata": {},
   "outputs": [
    {
     "data": {
      "text/html": [
       "<div>\n",
       "<style scoped>\n",
       "    .dataframe tbody tr th:only-of-type {\n",
       "        vertical-align: middle;\n",
       "    }\n",
       "\n",
       "    .dataframe tbody tr th {\n",
       "        vertical-align: top;\n",
       "    }\n",
       "\n",
       "    .dataframe thead tr th {\n",
       "        text-align: left;\n",
       "    }\n",
       "\n",
       "    .dataframe thead tr:last-of-type th {\n",
       "        text-align: right;\n",
       "    }\n",
       "</style>\n",
       "<table border=\"1\" class=\"dataframe\">\n",
       "  <thead>\n",
       "    <tr>\n",
       "      <th></th>\n",
       "      <th colspan=\"2\" halign=\"left\">acc_train</th>\n",
       "      <th colspan=\"2\" halign=\"left\">acc_test</th>\n",
       "      <th colspan=\"2\" halign=\"left\">min_acc_train</th>\n",
       "      <th colspan=\"2\" halign=\"left\">min_acc_test</th>\n",
       "    </tr>\n",
       "    <tr>\n",
       "      <th></th>\n",
       "      <th>mean</th>\n",
       "      <th>std</th>\n",
       "      <th>mean</th>\n",
       "      <th>std</th>\n",
       "      <th>mean</th>\n",
       "      <th>std</th>\n",
       "      <th>mean</th>\n",
       "      <th>std</th>\n",
       "    </tr>\n",
       "    <tr>\n",
       "      <th>model</th>\n",
       "      <th></th>\n",
       "      <th></th>\n",
       "      <th></th>\n",
       "      <th></th>\n",
       "      <th></th>\n",
       "      <th></th>\n",
       "      <th></th>\n",
       "      <th></th>\n",
       "    </tr>\n",
       "  </thead>\n",
       "  <tbody>\n",
       "    <tr>\n",
       "      <th>LGBMClassifier</th>\n",
       "      <td>0.755</td>\n",
       "      <td>0.063</td>\n",
       "      <td>0.729</td>\n",
       "      <td>0.030</td>\n",
       "      <td>0.334</td>\n",
       "      <td>0.078</td>\n",
       "      <td>0.378</td>\n",
       "      <td>0.037</td>\n",
       "    </tr>\n",
       "    <tr>\n",
       "      <th>M2FGBClassifier</th>\n",
       "      <td>0.339</td>\n",
       "      <td>0.127</td>\n",
       "      <td>0.342</td>\n",
       "      <td>0.125</td>\n",
       "      <td>0.712</td>\n",
       "      <td>0.106</td>\n",
       "      <td>0.707</td>\n",
       "      <td>0.102</td>\n",
       "    </tr>\n",
       "  </tbody>\n",
       "</table>\n",
       "</div>"
      ],
      "text/plain": [
       "                acc_train        acc_test        min_acc_train         \\\n",
       "                     mean    std     mean    std          mean    std   \n",
       "model                                                                   \n",
       "LGBMClassifier      0.755  0.063    0.729  0.030         0.334  0.078   \n",
       "M2FGBClassifier     0.339  0.127    0.342  0.125         0.712  0.106   \n",
       "\n",
       "                min_acc_test         \n",
       "                        mean    std  \n",
       "model                                \n",
       "LGBMClassifier         0.378  0.037  \n",
       "M2FGBClassifier        0.707  0.102  "
      ]
     },
     "execution_count": 13,
     "metadata": {},
     "output_type": "execute_result"
    }
   ],
   "source": [
    "results = pd.DataFrame(results).groupby(\"model\").agg({\n",
    "    \"acc_train\" : [\"mean\", \"std\"],\n",
    "    \"acc_test\" : [\"mean\", \"std\"],\n",
    "    \"min_acc_train\" : [\"mean\", \"std\"],\n",
    "    \"min_acc_test\" : [\"mean\", \"std\"],\n",
    "}).round(3)\n",
    "results.to_csv(\"german_ablation.csv\")\n",
    "results"
   ]
  },
  {
   "cell_type": "code",
   "execution_count": null,
   "metadata": {},
   "outputs": [],
   "source": [
    "results = []\n",
    "\n",
    "for seed in seed_list:\n",
    "    results += run_ablation_study({\n",
    "        \"dataset\" : \"enem\",\n",
    "        \"n_groups\" : 4,\n",
    "        \"n_trials\" : 100,\n",
    "        \"seed\" : seed\n",
    "    })"
   ]
  },
  {
   "cell_type": "code",
   "execution_count": 15,
   "metadata": {},
   "outputs": [
    {
     "data": {
      "text/html": [
       "<div>\n",
       "<style scoped>\n",
       "    .dataframe tbody tr th:only-of-type {\n",
       "        vertical-align: middle;\n",
       "    }\n",
       "\n",
       "    .dataframe tbody tr th {\n",
       "        vertical-align: top;\n",
       "    }\n",
       "\n",
       "    .dataframe thead tr th {\n",
       "        text-align: left;\n",
       "    }\n",
       "\n",
       "    .dataframe thead tr:last-of-type th {\n",
       "        text-align: right;\n",
       "    }\n",
       "</style>\n",
       "<table border=\"1\" class=\"dataframe\">\n",
       "  <thead>\n",
       "    <tr>\n",
       "      <th></th>\n",
       "      <th colspan=\"2\" halign=\"left\">acc_train</th>\n",
       "      <th colspan=\"2\" halign=\"left\">acc_test</th>\n",
       "      <th colspan=\"2\" halign=\"left\">min_acc_train</th>\n",
       "      <th colspan=\"2\" halign=\"left\">min_acc_test</th>\n",
       "    </tr>\n",
       "    <tr>\n",
       "      <th></th>\n",
       "      <th>mean</th>\n",
       "      <th>std</th>\n",
       "      <th>mean</th>\n",
       "      <th>std</th>\n",
       "      <th>mean</th>\n",
       "      <th>std</th>\n",
       "      <th>mean</th>\n",
       "      <th>std</th>\n",
       "    </tr>\n",
       "    <tr>\n",
       "      <th>model</th>\n",
       "      <th></th>\n",
       "      <th></th>\n",
       "      <th></th>\n",
       "      <th></th>\n",
       "      <th></th>\n",
       "      <th></th>\n",
       "      <th></th>\n",
       "      <th></th>\n",
       "    </tr>\n",
       "  </thead>\n",
       "  <tbody>\n",
       "    <tr>\n",
       "      <th>LGBMClassifier</th>\n",
       "      <td>0.789</td>\n",
       "      <td>0.105</td>\n",
       "      <td>0.659</td>\n",
       "      <td>0.014</td>\n",
       "      <td>0.251</td>\n",
       "      <td>0.126</td>\n",
       "      <td>0.452</td>\n",
       "      <td>0.062</td>\n",
       "    </tr>\n",
       "    <tr>\n",
       "      <th>M2FGBClassifier</th>\n",
       "      <td>0.758</td>\n",
       "      <td>0.099</td>\n",
       "      <td>0.656</td>\n",
       "      <td>0.011</td>\n",
       "      <td>0.282</td>\n",
       "      <td>0.106</td>\n",
       "      <td>0.467</td>\n",
       "      <td>0.053</td>\n",
       "    </tr>\n",
       "  </tbody>\n",
       "</table>\n",
       "</div>"
      ],
      "text/plain": [
       "                acc_train        acc_test        min_acc_train         \\\n",
       "                     mean    std     mean    std          mean    std   \n",
       "model                                                                   \n",
       "LGBMClassifier      0.789  0.105    0.659  0.014         0.251  0.126   \n",
       "M2FGBClassifier     0.758  0.099    0.656  0.011         0.282  0.106   \n",
       "\n",
       "                min_acc_test         \n",
       "                        mean    std  \n",
       "model                                \n",
       "LGBMClassifier         0.452  0.062  \n",
       "M2FGBClassifier        0.467  0.053  "
      ]
     },
     "execution_count": 15,
     "metadata": {},
     "output_type": "execute_result"
    }
   ],
   "source": [
    "results = pd.DataFrame(results).groupby(\"model\").agg({\n",
    "    \"acc_train\" : [\"mean\", \"std\"],\n",
    "    \"acc_test\" : [\"mean\", \"std\"],\n",
    "    \"min_acc_train\" : [\"mean\", \"std\"],\n",
    "    \"min_acc_test\" : [\"mean\", \"std\"],\n",
    "}).round(3)\n",
    "results.to_csv(\"enem_ablation.csv\")\n",
    "results"
   ]
  },
  {
   "cell_type": "code",
   "execution_count": 16,
   "metadata": {},
   "outputs": [
    {
     "name": "stdout",
     "output_type": "stream",
     "text": [
      "{'Other': 0, 'African-American': 1, 'Caucasian': 2, 'Hispanic': 3}\n"
     ]
    },
    {
     "data": {
      "application/vnd.jupyter.widget-view+json": {
       "model_id": "45c57825f87b4d1d9030fa51eb2760ec",
       "version_major": 2,
       "version_minor": 0
      },
      "text/plain": [
       "  0%|          | 0/100 [00:00<?, ?it/s]"
      ]
     },
     "metadata": {},
     "output_type": "display_data"
    },
    {
     "data": {
      "application/vnd.jupyter.widget-view+json": {
       "model_id": "c466fee78cf341e094bae5dcac82178b",
       "version_major": 2,
       "version_minor": 0
      },
      "text/plain": [
       "  0%|          | 0/100 [00:00<?, ?it/s]"
      ]
     },
     "metadata": {},
     "output_type": "display_data"
    },
    {
     "name": "stdout",
     "output_type": "stream",
     "text": [
      "{'Other': 0, 'African-American': 1, 'Caucasian': 2, 'Hispanic': 3}\n"
     ]
    },
    {
     "data": {
      "application/vnd.jupyter.widget-view+json": {
       "model_id": "68462c09056b4248a94d56b84ca81c0c",
       "version_major": 2,
       "version_minor": 0
      },
      "text/plain": [
       "  0%|          | 0/100 [00:00<?, ?it/s]"
      ]
     },
     "metadata": {},
     "output_type": "display_data"
    },
    {
     "data": {
      "application/vnd.jupyter.widget-view+json": {
       "model_id": "5f63e91624e447fd85f3369266d7eb2b",
       "version_major": 2,
       "version_minor": 0
      },
      "text/plain": [
       "  0%|          | 0/100 [00:00<?, ?it/s]"
      ]
     },
     "metadata": {},
     "output_type": "display_data"
    },
    {
     "name": "stdout",
     "output_type": "stream",
     "text": [
      "{'Other': 0, 'African-American': 1, 'Caucasian': 2, 'Hispanic': 3}\n"
     ]
    },
    {
     "data": {
      "application/vnd.jupyter.widget-view+json": {
       "model_id": "e74f18504e604dc5a2edc20ff2481c3a",
       "version_major": 2,
       "version_minor": 0
      },
      "text/plain": [
       "  0%|          | 0/100 [00:00<?, ?it/s]"
      ]
     },
     "metadata": {},
     "output_type": "display_data"
    },
    {
     "data": {
      "application/vnd.jupyter.widget-view+json": {
       "model_id": "94d179f919c0491bbaab73abf43333bb",
       "version_major": 2,
       "version_minor": 0
      },
      "text/plain": [
       "  0%|          | 0/100 [00:00<?, ?it/s]"
      ]
     },
     "metadata": {},
     "output_type": "display_data"
    },
    {
     "name": "stdout",
     "output_type": "stream",
     "text": [
      "{'Other': 0, 'African-American': 1, 'Caucasian': 2, 'Hispanic': 3}\n"
     ]
    },
    {
     "data": {
      "application/vnd.jupyter.widget-view+json": {
       "model_id": "a073abfe846e48eebda49fa2c58bfc39",
       "version_major": 2,
       "version_minor": 0
      },
      "text/plain": [
       "  0%|          | 0/100 [00:00<?, ?it/s]"
      ]
     },
     "metadata": {},
     "output_type": "display_data"
    },
    {
     "data": {
      "application/vnd.jupyter.widget-view+json": {
       "model_id": "a93bff3e428641be9b2634f771864118",
       "version_major": 2,
       "version_minor": 0
      },
      "text/plain": [
       "  0%|          | 0/100 [00:00<?, ?it/s]"
      ]
     },
     "metadata": {},
     "output_type": "display_data"
    },
    {
     "name": "stdout",
     "output_type": "stream",
     "text": [
      "{'Other': 0, 'African-American': 1, 'Caucasian': 2, 'Hispanic': 3}\n"
     ]
    },
    {
     "data": {
      "application/vnd.jupyter.widget-view+json": {
       "model_id": "db1d052943a142a082f92ed993868ad8",
       "version_major": 2,
       "version_minor": 0
      },
      "text/plain": [
       "  0%|          | 0/100 [00:00<?, ?it/s]"
      ]
     },
     "metadata": {},
     "output_type": "display_data"
    },
    {
     "data": {
      "application/vnd.jupyter.widget-view+json": {
       "model_id": "ee4e6043cf0d4cd6bccb13f9cca9bac9",
       "version_major": 2,
       "version_minor": 0
      },
      "text/plain": [
       "  0%|          | 0/100 [00:00<?, ?it/s]"
      ]
     },
     "metadata": {},
     "output_type": "display_data"
    },
    {
     "name": "stdout",
     "output_type": "stream",
     "text": [
      "{'Other': 0, 'African-American': 1, 'Caucasian': 2, 'Hispanic': 3}\n"
     ]
    },
    {
     "data": {
      "application/vnd.jupyter.widget-view+json": {
       "model_id": "04d876cdf4c24e1c83b74aba0ad80233",
       "version_major": 2,
       "version_minor": 0
      },
      "text/plain": [
       "  0%|          | 0/100 [00:00<?, ?it/s]"
      ]
     },
     "metadata": {},
     "output_type": "display_data"
    },
    {
     "data": {
      "application/vnd.jupyter.widget-view+json": {
       "model_id": "1273d5536fb2490487b0d82c689e14af",
       "version_major": 2,
       "version_minor": 0
      },
      "text/plain": [
       "  0%|          | 0/100 [00:00<?, ?it/s]"
      ]
     },
     "metadata": {},
     "output_type": "display_data"
    },
    {
     "name": "stdout",
     "output_type": "stream",
     "text": [
      "{'Other': 0, 'African-American': 1, 'Caucasian': 2, 'Hispanic': 3}\n"
     ]
    },
    {
     "data": {
      "application/vnd.jupyter.widget-view+json": {
       "model_id": "38f041cd81d745a2826772ed633e06e2",
       "version_major": 2,
       "version_minor": 0
      },
      "text/plain": [
       "  0%|          | 0/100 [00:00<?, ?it/s]"
      ]
     },
     "metadata": {},
     "output_type": "display_data"
    },
    {
     "data": {
      "application/vnd.jupyter.widget-view+json": {
       "model_id": "ed500d5fe63a4bc187619ea6233413db",
       "version_major": 2,
       "version_minor": 0
      },
      "text/plain": [
       "  0%|          | 0/100 [00:00<?, ?it/s]"
      ]
     },
     "metadata": {},
     "output_type": "display_data"
    },
    {
     "name": "stdout",
     "output_type": "stream",
     "text": [
      "{'Other': 0, 'African-American': 1, 'Caucasian': 2, 'Hispanic': 3}\n"
     ]
    },
    {
     "data": {
      "application/vnd.jupyter.widget-view+json": {
       "model_id": "20449351266a4b3bb0619ee06f988da5",
       "version_major": 2,
       "version_minor": 0
      },
      "text/plain": [
       "  0%|          | 0/100 [00:00<?, ?it/s]"
      ]
     },
     "metadata": {},
     "output_type": "display_data"
    }
   ],
   "source": [
    "results = []\n",
    "\n",
    "for seed in seed_list:\n",
    "    results += run_ablation_study({\n",
    "        \"dataset\" : \"compas\",\n",
    "        \"n_groups\" : 4,\n",
    "        \"n_trials\" : 100,\n",
    "        \"seed\" : seed\n",
    "    })"
   ]
  },
  {
   "cell_type": "code",
   "execution_count": null,
   "metadata": {},
   "outputs": [
    {
     "data": {
      "text/html": [
       "<div>\n",
       "<style scoped>\n",
       "    .dataframe tbody tr th:only-of-type {\n",
       "        vertical-align: middle;\n",
       "    }\n",
       "\n",
       "    .dataframe tbody tr th {\n",
       "        vertical-align: top;\n",
       "    }\n",
       "\n",
       "    .dataframe thead tr th {\n",
       "        text-align: left;\n",
       "    }\n",
       "\n",
       "    .dataframe thead tr:last-of-type th {\n",
       "        text-align: right;\n",
       "    }\n",
       "</style>\n",
       "<table border=\"1\" class=\"dataframe\">\n",
       "  <thead>\n",
       "    <tr>\n",
       "      <th></th>\n",
       "      <th colspan=\"2\" halign=\"left\">acc_train</th>\n",
       "      <th colspan=\"2\" halign=\"left\">acc_test</th>\n",
       "      <th colspan=\"2\" halign=\"left\">min_acc_train</th>\n",
       "      <th colspan=\"2\" halign=\"left\">min_acc_test</th>\n",
       "    </tr>\n",
       "    <tr>\n",
       "      <th></th>\n",
       "      <th>mean</th>\n",
       "      <th>std</th>\n",
       "      <th>mean</th>\n",
       "      <th>std</th>\n",
       "      <th>mean</th>\n",
       "      <th>std</th>\n",
       "      <th>mean</th>\n",
       "      <th>std</th>\n",
       "    </tr>\n",
       "    <tr>\n",
       "      <th>model</th>\n",
       "      <th></th>\n",
       "      <th></th>\n",
       "      <th></th>\n",
       "      <th></th>\n",
       "      <th></th>\n",
       "      <th></th>\n",
       "      <th></th>\n",
       "      <th></th>\n",
       "    </tr>\n",
       "  </thead>\n",
       "  <tbody>\n",
       "    <tr>\n",
       "      <th>LGBMClassifier</th>\n",
       "      <td>0.680</td>\n",
       "      <td>0.003</td>\n",
       "      <td>0.668</td>\n",
       "      <td>0.013</td>\n",
       "      <td>0.329</td>\n",
       "      <td>0.005</td>\n",
       "      <td>0.355</td>\n",
       "      <td>0.015</td>\n",
       "    </tr>\n",
       "    <tr>\n",
       "      <th>M2FGBClassifier</th>\n",
       "      <td>0.681</td>\n",
       "      <td>0.006</td>\n",
       "      <td>0.668</td>\n",
       "      <td>0.010</td>\n",
       "      <td>0.328</td>\n",
       "      <td>0.007</td>\n",
       "      <td>0.358</td>\n",
       "      <td>0.018</td>\n",
       "    </tr>\n",
       "  </tbody>\n",
       "</table>\n",
       "</div>"
      ],
      "text/plain": [
       "                acc_train        acc_test        min_acc_train         \\\n",
       "                     mean    std     mean    std          mean    std   \n",
       "model                                                                   \n",
       "LGBMClassifier      0.680  0.003    0.668  0.013         0.329  0.005   \n",
       "M2FGBClassifier     0.681  0.006    0.668  0.010         0.328  0.007   \n",
       "\n",
       "                min_acc_test         \n",
       "                        mean    std  \n",
       "model                                \n",
       "LGBMClassifier         0.355  0.015  \n",
       "M2FGBClassifier        0.358  0.018  "
      ]
     },
     "execution_count": 25,
     "metadata": {},
     "output_type": "execute_result"
    }
   ],
   "source": [
    "results = pd.DataFrame(results).groupby(\"model\").agg({\n",
    "    \"acc_train\" : [\"mean\", \"std\"],\n",
    "    \"acc_test\" : [\"mean\", \"std\"],\n",
    "    \"min_acc_train\" : [\"mean\", \"std\"],\n",
    "    \"min_acc_test\" : [\"mean\", \"std\"],\n",
    "}).round(3)\n",
    "results.to_csv(\"compas_ablation.csv\")\n",
    "results"
   ]
  },
  {
   "cell_type": "code",
   "execution_count": null,
   "metadata": {},
   "outputs": [],
   "source": [
    "pd.DataFrame(results).groupby(\"model\").agg({\n",
    "    \"acc_train\" : [\"mean\", \"std\"],\n",
    "    \"acc_test\" : [\"mean\", \"std\"],\n",
    "    \"min_acc_train\" : [\"mean\", \"std\"],\n",
    "    \"min_acc_test\" : [\"mean\", \"std\"],\n",
    "}).round(3).to_csv(\"ablation_compas.csv\")"
   ]
  }
 ],
 "metadata": {
  "kernelspec": {
   "display_name": "Python 3 (ipykernel)",
   "language": "python",
   "name": "python3"
  },
  "language_info": {
   "codemirror_mode": {
    "name": "ipython",
    "version": 3
   },
   "file_extension": ".py",
   "mimetype": "text/x-python",
   "name": "python",
   "nbconvert_exporter": "python",
   "pygments_lexer": "ipython3",
   "version": "3.10.12"
  }
 },
 "nbformat": 4,
 "nbformat_minor": 2
}
