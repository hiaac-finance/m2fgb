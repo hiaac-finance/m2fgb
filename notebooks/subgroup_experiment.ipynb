{
 "cells": [
  {
   "cell_type": "code",
   "execution_count": 1,
   "metadata": {},
   "outputs": [],
   "source": [
    "import matplotlib.pyplot as plt\n",
    "from sklearn.pipeline import Pipeline\n",
    "from sklearn.compose import ColumnTransformer\n",
    "from sklearn.preprocessing import StandardScaler, OneHotEncoder\n",
    "import pandas as pd\n",
    "import numpy as np\n",
    "from tqdm import tqdm\n",
    "import optuna\n",
    "optuna.logging.set_verbosity(optuna.logging.WARNING)\n",
    "import sys\n",
    "\n",
    "\n",
    "sys.path.append('../scripts')\n",
    "import data\n",
    "import models\n",
    "import utils\n",
    "\n",
    "%load_ext autoreload\n",
    "%autoreload 2"
   ]
  },
  {
   "cell_type": "code",
   "execution_count": 23,
   "metadata": {},
   "outputs": [],
   "source": [
    "param_space_fair = {\n",
    "    \"min_child_weight\" : {\"type\" : \"float\", \"low\" : 0.01, \"high\" : 100, \"log\" : True},\n",
    "    \"n_estimators\" : {\"type\" : \"int\", \"low\" : 10, \"high\" : 100},\n",
    "    \"eta\" : {\"type\" : \"float\", \"low\" : 0.1, \"high\" : 0.5},\n",
    "    \"max_depth\" : {\"type\" : \"int\", \"low\" : 2, \"high\" : 10},\n",
    "    \"l2_weight\" : {\"type\" : \"float\", \"low\" : 0.001, \"high\" : 1000, \"log\" : True},\n",
    "    \"fair_weight\" : {\"type\" : \"float\", \"low\" : 0.01, \"high\" : 10, \"log\" : True}\n",
    "}\n",
    "param_space_xgb = param_space_fair.copy()\n",
    "param_space_xgb[\"fair_weight\"] = {\"type\" : \"float\", \"low\" : 0, \"high\" : 0}"
   ]
  },
  {
   "cell_type": "code",
   "execution_count": 11,
   "metadata": {},
   "outputs": [],
   "source": [
    "def run_trial(\n",
    "        trial,\n",
    "        X_train,\n",
    "        Y_train,\n",
    "        A_train,\n",
    "        X_val,\n",
    "        Y_val,\n",
    "        model_class,\n",
    "        param_space,\n",
    "        random_state = None\n",
    "):  \n",
    "    params = {}\n",
    "    for name, values in param_space.items():\n",
    "        if values[\"type\"] == \"int\":\n",
    "            values_cp = {n: v for n, v in values.items() if n != \"type\"}\n",
    "            params[name] = trial.suggest_int(name, **values_cp)\n",
    "        elif values[\"type\"] == \"categorical\":\n",
    "            values_cp = {n: v for n, v in values.items() if n != \"type\"}\n",
    "            params[name] = trial.suggest_categorical(name, **values_cp)\n",
    "        elif values[\"type\"] == \"float\":  # corrected this line\n",
    "            values_cp = {n: v for n, v in values.items() if n != \"type\"}\n",
    "            params[name] = trial.suggest_float(name, **values_cp)\n",
    "\n",
    "    params[\"seed\"] = random_state\n",
    "    model = model_class(**params)\n",
    "    model.fit(X_train, Y_train, A_train)\n",
    "    return model.score(X_val, Y_val)"
   ]
  },
  {
   "cell_type": "code",
   "execution_count": 25,
   "metadata": {},
   "outputs": [
    {
     "name": "stderr",
     "output_type": "stream",
     "text": [
      "  0%|          | 0/10 [00:00<?, ?it/s]"
     ]
    },
    {
     "name": "stdout",
     "output_type": "stream",
     "text": [
      "{'min_child_weight': 0.014823084306325065, 'n_estimators': 84, 'eta': 0.3115799331349146, 'max_depth': 10, 'l2_weight': 0.0016077409311701905, 'fair_weight': 0.06193002739744062}\n"
     ]
    },
    {
     "name": "stderr",
     "output_type": "stream",
     "text": [
      " 10%|█         | 1/10 [00:51<07:44, 51.65s/it]"
     ]
    },
    {
     "name": "stdout",
     "output_type": "stream",
     "text": [
      "{'min_child_weight': 0.01923484645141687, 'n_estimators': 32, 'eta': 0.35080556040733, 'max_depth': 8, 'l2_weight': 240.93481057257003, 'fair_weight': 0.11083869922125109}\n"
     ]
    },
    {
     "name": "stderr",
     "output_type": "stream",
     "text": [
      " 20%|██        | 2/10 [01:23<05:21, 40.20s/it]"
     ]
    },
    {
     "name": "stdout",
     "output_type": "stream",
     "text": [
      "{'min_child_weight': 0.8243609961356084, 'n_estimators': 46, 'eta': 0.4201642155551818, 'max_depth': 10, 'l2_weight': 137.39977464825606, 'fair_weight': 1.3783340603874408}\n"
     ]
    },
    {
     "name": "stderr",
     "output_type": "stream",
     "text": [
      " 30%|███       | 3/10 [01:52<04:02, 34.71s/it]"
     ]
    },
    {
     "name": "stdout",
     "output_type": "stream",
     "text": [
      "{'min_child_weight': 0.1132862182539291, 'n_estimators': 63, 'eta': 0.24060245744204573, 'max_depth': 2, 'l2_weight': 1.7319367521309919, 'fair_weight': 0.11458373820856957}\n"
     ]
    },
    {
     "name": "stderr",
     "output_type": "stream",
     "text": [
      " 40%|████      | 4/10 [02:17<03:05, 30.94s/it]"
     ]
    },
    {
     "name": "stdout",
     "output_type": "stream",
     "text": [
      "{'min_child_weight': 2.3129626469943227, 'n_estimators': 52, 'eta': 0.19827032599848257, 'max_depth': 7, 'l2_weight': 0.003456879838933227, 'fair_weight': 0.48497376255171826}\n"
     ]
    },
    {
     "name": "stderr",
     "output_type": "stream",
     "text": [
      " 50%|█████     | 5/10 [02:44<02:27, 29.49s/it]"
     ]
    },
    {
     "name": "stdout",
     "output_type": "stream",
     "text": [
      "{'min_child_weight': 0.01121649855969746, 'n_estimators': 92, 'eta': 0.17910332970752632, 'max_depth': 6, 'l2_weight': 54.13933905478327, 'fair_weight': 0.8943145128364184}\n"
     ]
    },
    {
     "name": "stderr",
     "output_type": "stream",
     "text": [
      " 60%|██████    | 6/10 [03:22<02:09, 32.46s/it]"
     ]
    },
    {
     "name": "stdout",
     "output_type": "stream",
     "text": [
      "{'min_child_weight': 1.9972757218021935, 'n_estimators': 30, 'eta': 0.22330534870232194, 'max_depth': 5, 'l2_weight': 583.1252471625709, 'fair_weight': 0.5600514232979784}\n"
     ]
    },
    {
     "name": "stderr",
     "output_type": "stream",
     "text": [
      " 70%|███████   | 7/10 [03:45<01:28, 29.43s/it]"
     ]
    },
    {
     "name": "stdout",
     "output_type": "stream",
     "text": [
      "{'min_child_weight': 0.11891149158981625, 'n_estimators': 31, 'eta': 0.10012818975944325, 'max_depth': 7, 'l2_weight': 229.7181515353769, 'fair_weight': 3.7073852896972745}\n"
     ]
    },
    {
     "name": "stderr",
     "output_type": "stream",
     "text": [
      "/home/giovani/anaconda3/envs/dual_fair_boost/lib/python3.8/site-packages/numpy/core/fromnumeric.py:3464: RuntimeWarning: Mean of empty slice.\n",
      "  return _methods._mean(a, axis=axis, dtype=dtype,\n",
      "/home/giovani/anaconda3/envs/dual_fair_boost/lib/python3.8/site-packages/numpy/core/_methods.py:192: RuntimeWarning: invalid value encountered in scalar divide\n",
      "  ret = ret.dtype.type(ret / rcount)\n",
      "/home/giovani/anaconda3/envs/dual_fair_boost/lib/python3.8/site-packages/numpy/core/fromnumeric.py:3464: RuntimeWarning: Mean of empty slice.\n",
      "  return _methods._mean(a, axis=axis, dtype=dtype,\n",
      "/home/giovani/anaconda3/envs/dual_fair_boost/lib/python3.8/site-packages/numpy/core/_methods.py:192: RuntimeWarning: invalid value encountered in scalar divide\n",
      "  ret = ret.dtype.type(ret / rcount)\n",
      " 80%|████████  | 8/10 [04:10<00:55, 27.92s/it]"
     ]
    },
    {
     "name": "stdout",
     "output_type": "stream",
     "text": [
      "{'min_child_weight': 0.39201636511804194, 'n_estimators': 81, 'eta': 0.19169280694125002, 'max_depth': 6, 'l2_weight': 16.188491965847252, 'fair_weight': 0.025463192879419727}\n"
     ]
    },
    {
     "name": "stderr",
     "output_type": "stream",
     "text": [
      " 90%|█████████ | 9/10 [04:49<00:31, 31.39s/it]"
     ]
    },
    {
     "name": "stdout",
     "output_type": "stream",
     "text": [
      "{'min_child_weight': 3.560840116729864, 'n_estimators': 90, 'eta': 0.35133091540745387, 'max_depth': 10, 'l2_weight': 358.8032350865685, 'fair_weight': 0.018531350639609392}\n"
     ]
    },
    {
     "name": "stderr",
     "output_type": "stream",
     "text": [
      "100%|██████████| 10/10 [05:21<00:00, 32.20s/it]\n"
     ]
    }
   ],
   "source": [
    "results = []\n",
    "cat_features = [\n",
    "    \"CheckingAccount\",\n",
    "    \"CreditHistory\",\n",
    "    \"Purpose\",\n",
    "    \"SavingsAccount\",\n",
    "    \"EmploymentSince\",\n",
    "    \"Gender\",\n",
    "    \"OtherDebtors\",\n",
    "    \"Property\",\n",
    "    \"OtherInstallmentPlans\",\n",
    "    \"Housing\",\n",
    "    \"Job\",\n",
    "    \"Telephone\",\n",
    "    \"ForeignWorker\",\n",
    "]\n",
    "num_features = [\n",
    "    'Age',\n",
    "    'CreditAmount',\n",
    "    'Dependents',\n",
    "    'Duration',\n",
    "    'ExistingCredits',\n",
    "    'InstallmentRate',\n",
    "    'ResidenceSince'\n",
    "]\n",
    "col_trans = ColumnTransformer(\n",
    "    [\n",
    "    (\"numeric\", StandardScaler(), num_features),\n",
    "    (\"categorical\", OneHotEncoder(drop=\"if_binary\", sparse_output=False, handle_unknown=\"ignore\"), cat_features)\n",
    "    ], \n",
    "    verbose_feature_names_out=False,\n",
    ")\n",
    "col_trans.set_output(transform=\"pandas\")\n",
    "\n",
    "\n",
    "for i in tqdm(range(10)):\n",
    "    # Load and prepare data\n",
    "    X_train, Y_train, X_val, Y_val, X_test, Y_test = data.get_fold(\"german2\", i, 0)\n",
    "    \n",
    "    num_features = X_train.columns.difference(cat_features).tolist()\n",
    "    # Define sensitive attribute from gender and age\n",
    "    A_train = X_train.Gender + \"_\" + (X_train.Age > 50).astype(str)\n",
    "    A_val = X_val.Gender + \"_\" + (X_val.Age > 50).astype(str)\n",
    "    A_test = X_test.Gender + \"_\" + (X_test.Age > 50).astype(str)\n",
    "    # create dict of sensitive attribute names and values\n",
    "    sensitive_map = dict([\n",
    "        (attr, i)\n",
    "        for i, attr in enumerate(A_train.unique())\n",
    "    ])\n",
    "    A_train = A_train.map(sensitive_map)\n",
    "    A_val = A_val.map(sensitive_map)\n",
    "    A_test = A_test.map(sensitive_map)\n",
    "\n",
    "    preprocess = Pipeline([\n",
    "      (\"preprocess\", col_trans)\n",
    "    ])\n",
    "    preprocess.fit(X_train)\n",
    "    X_train_preprocessed = preprocess.transform(X_train)\n",
    "    X_val_preprocessed = preprocess.transform(X_val)\n",
    "    X_test_preprocessed = preprocess.transform(X_test)\n",
    "\n",
    "    study = optuna.create_study(direction=\"maximize\")\n",
    "    objective = lambda trial : run_trial(trial, X_train_preprocessed, Y_train, A_train, X_val_preprocessed, Y_val, models.XtremeFair, param_space_fair)\n",
    "    study.optimize(objective, n_trials=100)\n",
    "\n",
    "    print(study.best_params)\n",
    "    model = models.XtremeFair(**study.best_params)\n",
    "    model.fit(X_train_preprocessed, Y_train, A_train)\n",
    "    roc_fair = model.score(X_test_preprocessed, Y_test)\n",
    "    loss_fair = utils.equalized_loss_score(Y_test, model.predict_proba(X_test_preprocessed)[:, 1], A_test)\n",
    "    eop_fair = utils.equal_opportunity_score(Y_test, model.predict(X_test_preprocessed), A_test)\n",
    "\n",
    "\n",
    "    study = optuna.create_study(direction=\"maximize\")\n",
    "    objective = lambda trial : run_trial(trial, X_train_preprocessed, Y_train, A_train, X_val_preprocessed, Y_val, models.XtremeFair, param_space_xgb)\n",
    "    study.optimize(objective, n_trials=100)\n",
    "\n",
    "    model = models.XtremeFair(**study.best_params)\n",
    "    model.fit(X_train_preprocessed, Y_train)\n",
    "    roc_xgb = model.score(X_test_preprocessed, Y_test)\n",
    "    loss_xgb = utils.equalized_loss_score(Y_test, model.predict_proba(X_test_preprocessed)[:, 1], A_test)\n",
    "    eop_xgb = utils.equal_opportunity_score(Y_test, model.predict(X_test_preprocessed), A_test)\n",
    "    results.append([i, roc_fair, loss_fair, eop_fair, roc_xgb, loss_xgb, eop_xgb])\n",
    "\n",
    "results = pd.DataFrame(results, columns=[\"Fold\", \"ROC Fair\", \"Loss Fair\", \"EOP Fair\", \"ROC XGB\", \"Loss XGB\", \"EOP XGB\"])"
   ]
  },
  {
   "cell_type": "code",
   "execution_count": null,
   "metadata": {},
   "outputs": [
    {
     "data": {
      "text/html": [
       "<div>\n",
       "<style scoped>\n",
       "    .dataframe tbody tr th:only-of-type {\n",
       "        vertical-align: middle;\n",
       "    }\n",
       "\n",
       "    .dataframe tbody tr th {\n",
       "        vertical-align: top;\n",
       "    }\n",
       "\n",
       "    .dataframe thead th {\n",
       "        text-align: right;\n",
       "    }\n",
       "</style>\n",
       "<table border=\"1\" class=\"dataframe\">\n",
       "  <thead>\n",
       "    <tr style=\"text-align: right;\">\n",
       "      <th></th>\n",
       "      <th>Fold</th>\n",
       "      <th>ROC Fair</th>\n",
       "      <th>Loss Fair</th>\n",
       "      <th>EOP Fair</th>\n",
       "    </tr>\n",
       "  </thead>\n",
       "  <tbody>\n",
       "    <tr>\n",
       "      <th>0</th>\n",
       "      <td>0</td>\n",
       "      <td>0.73</td>\n",
       "      <td>0.741306</td>\n",
       "      <td>0.315789</td>\n",
       "    </tr>\n",
       "    <tr>\n",
       "      <th>1</th>\n",
       "      <td>1</td>\n",
       "      <td>0.71</td>\n",
       "      <td>1.158094</td>\n",
       "      <td>0.184211</td>\n",
       "    </tr>\n",
       "    <tr>\n",
       "      <th>2</th>\n",
       "      <td>2</td>\n",
       "      <td>0.82</td>\n",
       "      <td>0.393015</td>\n",
       "      <td>0.120000</td>\n",
       "    </tr>\n",
       "    <tr>\n",
       "      <th>3</th>\n",
       "      <td>3</td>\n",
       "      <td>0.68</td>\n",
       "      <td>0.134085</td>\n",
       "      <td>0.153846</td>\n",
       "    </tr>\n",
       "    <tr>\n",
       "      <th>4</th>\n",
       "      <td>4</td>\n",
       "      <td>0.72</td>\n",
       "      <td>1.065163</td>\n",
       "      <td>0.125000</td>\n",
       "    </tr>\n",
       "    <tr>\n",
       "      <th>5</th>\n",
       "      <td>5</td>\n",
       "      <td>0.68</td>\n",
       "      <td>0.511463</td>\n",
       "      <td>0.178571</td>\n",
       "    </tr>\n",
       "    <tr>\n",
       "      <th>6</th>\n",
       "      <td>6</td>\n",
       "      <td>0.80</td>\n",
       "      <td>0.247018</td>\n",
       "      <td>0.125000</td>\n",
       "    </tr>\n",
       "    <tr>\n",
       "      <th>7</th>\n",
       "      <td>7</td>\n",
       "      <td>0.68</td>\n",
       "      <td>0.758559</td>\n",
       "      <td>0.263158</td>\n",
       "    </tr>\n",
       "    <tr>\n",
       "      <th>8</th>\n",
       "      <td>8</td>\n",
       "      <td>0.57</td>\n",
       "      <td>0.562850</td>\n",
       "      <td>0.384615</td>\n",
       "    </tr>\n",
       "    <tr>\n",
       "      <th>9</th>\n",
       "      <td>9</td>\n",
       "      <td>0.75</td>\n",
       "      <td>0.231534</td>\n",
       "      <td>0.190476</td>\n",
       "    </tr>\n",
       "  </tbody>\n",
       "</table>\n",
       "</div>"
      ],
      "text/plain": [
       "   Fold  ROC Fair  Loss Fair  EOP Fair\n",
       "0     0      0.73   0.741306  0.315789\n",
       "1     1      0.71   1.158094  0.184211\n",
       "2     2      0.82   0.393015  0.120000\n",
       "3     3      0.68   0.134085  0.153846\n",
       "4     4      0.72   1.065163  0.125000\n",
       "5     5      0.68   0.511463  0.178571\n",
       "6     6      0.80   0.247018  0.125000\n",
       "7     7      0.68   0.758559  0.263158\n",
       "8     8      0.57   0.562850  0.384615\n",
       "9     9      0.75   0.231534  0.190476"
      ]
     },
     "execution_count": 21,
     "metadata": {},
     "output_type": "execute_result"
    }
   ],
   "source": [
    "results"
   ]
  },
  {
   "cell_type": "code",
   "execution_count": 26,
   "metadata": {},
   "outputs": [
    {
     "data": {
      "text/plain": [
       "(Fold         4.500000\n",
       " ROC Fair     0.747000\n",
       " Loss Fair    0.390157\n",
       " EOP Fair     0.172552\n",
       " ROC XGB      0.734000\n",
       " Loss XGB     0.481428\n",
       " EOP XGB      0.296874\n",
       " dtype: float64,\n",
       " Fold         3.027650\n",
       " ROC Fair     0.032335\n",
       " Loss Fair    0.364987\n",
       " EOP Fair     0.097983\n",
       " ROC XGB      0.051683\n",
       " Loss XGB     0.250222\n",
       " EOP XGB      0.253438\n",
       " dtype: float64)"
      ]
     },
     "execution_count": 26,
     "metadata": {},
     "output_type": "execute_result"
    }
   ],
   "source": [
    "results.mean(), results.std()"
   ]
  },
  {
   "cell_type": "code",
   "execution_count": 10,
   "metadata": {},
   "outputs": [
    {
     "name": "stdout",
     "output_type": "stream",
     "text": [
      "what\n",
      "(800, 57)\n",
      "what\n",
      "(800, 57)\n",
      "what\n",
      "(800, 57)\n",
      "what\n",
      "(800, 57)\n",
      "what\n",
      "(800, 57)\n",
      "what\n",
      "(800, 57)\n",
      "what\n",
      "(800, 57)\n",
      "what\n",
      "(800, 57)\n",
      "what\n",
      "(800, 57)\n",
      "what\n",
      "(800, 57)\n"
     ]
    },
    {
     "data": {
      "text/html": [
       "<style>#sk-container-id-4 {color: black;background-color: white;}#sk-container-id-4 pre{padding: 0;}#sk-container-id-4 div.sk-toggleable {background-color: white;}#sk-container-id-4 label.sk-toggleable__label {cursor: pointer;display: block;width: 100%;margin-bottom: 0;padding: 0.3em;box-sizing: border-box;text-align: center;}#sk-container-id-4 label.sk-toggleable__label-arrow:before {content: \"▸\";float: left;margin-right: 0.25em;color: #696969;}#sk-container-id-4 label.sk-toggleable__label-arrow:hover:before {color: black;}#sk-container-id-4 div.sk-estimator:hover label.sk-toggleable__label-arrow:before {color: black;}#sk-container-id-4 div.sk-toggleable__content {max-height: 0;max-width: 0;overflow: hidden;text-align: left;background-color: #f0f8ff;}#sk-container-id-4 div.sk-toggleable__content pre {margin: 0.2em;color: black;border-radius: 0.25em;background-color: #f0f8ff;}#sk-container-id-4 input.sk-toggleable__control:checked~div.sk-toggleable__content {max-height: 200px;max-width: 100%;overflow: auto;}#sk-container-id-4 input.sk-toggleable__control:checked~label.sk-toggleable__label-arrow:before {content: \"▾\";}#sk-container-id-4 div.sk-estimator input.sk-toggleable__control:checked~label.sk-toggleable__label {background-color: #d4ebff;}#sk-container-id-4 div.sk-label input.sk-toggleable__control:checked~label.sk-toggleable__label {background-color: #d4ebff;}#sk-container-id-4 input.sk-hidden--visually {border: 0;clip: rect(1px 1px 1px 1px);clip: rect(1px, 1px, 1px, 1px);height: 1px;margin: -1px;overflow: hidden;padding: 0;position: absolute;width: 1px;}#sk-container-id-4 div.sk-estimator {font-family: monospace;background-color: #f0f8ff;border: 1px dotted black;border-radius: 0.25em;box-sizing: border-box;margin-bottom: 0.5em;}#sk-container-id-4 div.sk-estimator:hover {background-color: #d4ebff;}#sk-container-id-4 div.sk-parallel-item::after {content: \"\";width: 100%;border-bottom: 1px solid gray;flex-grow: 1;}#sk-container-id-4 div.sk-label:hover label.sk-toggleable__label {background-color: #d4ebff;}#sk-container-id-4 div.sk-serial::before {content: \"\";position: absolute;border-left: 1px solid gray;box-sizing: border-box;top: 0;bottom: 0;left: 50%;z-index: 0;}#sk-container-id-4 div.sk-serial {display: flex;flex-direction: column;align-items: center;background-color: white;padding-right: 0.2em;padding-left: 0.2em;position: relative;}#sk-container-id-4 div.sk-item {position: relative;z-index: 1;}#sk-container-id-4 div.sk-parallel {display: flex;align-items: stretch;justify-content: center;background-color: white;position: relative;}#sk-container-id-4 div.sk-item::before, #sk-container-id-4 div.sk-parallel-item::before {content: \"\";position: absolute;border-left: 1px solid gray;box-sizing: border-box;top: 0;bottom: 0;left: 50%;z-index: -1;}#sk-container-id-4 div.sk-parallel-item {display: flex;flex-direction: column;z-index: 1;position: relative;background-color: white;}#sk-container-id-4 div.sk-parallel-item:first-child::after {align-self: flex-end;width: 50%;}#sk-container-id-4 div.sk-parallel-item:last-child::after {align-self: flex-start;width: 50%;}#sk-container-id-4 div.sk-parallel-item:only-child::after {width: 0;}#sk-container-id-4 div.sk-dashed-wrapped {border: 1px dashed gray;margin: 0 0.4em 0.5em 0.4em;box-sizing: border-box;padding-bottom: 0.4em;background-color: white;}#sk-container-id-4 div.sk-label label {font-family: monospace;font-weight: bold;display: inline-block;line-height: 1.2em;}#sk-container-id-4 div.sk-label-container {text-align: center;}#sk-container-id-4 div.sk-container {/* jupyter's `normalize.less` sets `[hidden] { display: none; }` but bootstrap.min.css set `[hidden] { display: none !important; }` so we also need the `!important` here to be able to override the default hidden behavior on the sphinx rendered scikit-learn.org. See: https://github.com/scikit-learn/scikit-learn/issues/21755 */display: inline-block !important;position: relative;}#sk-container-id-4 div.sk-text-repr-fallback {display: none;}</style><div id=\"sk-container-id-4\" class=\"sk-top-container\"><div class=\"sk-text-repr-fallback\"><pre>XtremeFair(colsample_bytree=0.5)</pre><b>In a Jupyter environment, please rerun this cell to show the HTML representation or trust the notebook. <br />On GitHub, the HTML representation is unable to render, please try loading this page with nbviewer.org.</b></div><div class=\"sk-container\" hidden><div class=\"sk-item\"><div class=\"sk-estimator sk-toggleable\"><input class=\"sk-toggleable__control sk-hidden--visually\" id=\"sk-estimator-id-4\" type=\"checkbox\" checked><label for=\"sk-estimator-id-4\" class=\"sk-toggleable__label sk-toggleable__label-arrow\">XtremeFair</label><div class=\"sk-toggleable__content\"><pre>XtremeFair(colsample_bytree=0.5)</pre></div></div></div></div></div>"
      ],
      "text/plain": [
       "XtremeFair(colsample_bytree=0.5)"
      ]
     },
     "execution_count": 10,
     "metadata": {},
     "output_type": "execute_result"
    }
   ],
   "source": [
    "model = models.XtremeFair(colsample_bytree=0.5)\n",
    "model.fit(X_train_preprocessed, Y_train)"
   ]
  }
 ],
 "metadata": {
  "kernelspec": {
   "display_name": "dual_fair_boost",
   "language": "python",
   "name": "python3"
  },
  "language_info": {
   "codemirror_mode": {
    "name": "ipython",
    "version": 3
   },
   "file_extension": ".py",
   "mimetype": "text/x-python",
   "name": "python",
   "nbconvert_exporter": "python",
   "pygments_lexer": "ipython3",
   "version": "3.8.17"
  }
 },
 "nbformat": 4,
 "nbformat_minor": 2
}
