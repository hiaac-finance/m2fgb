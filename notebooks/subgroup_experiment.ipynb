{
 "cells": [
  {
   "cell_type": "code",
   "execution_count": 86,
   "metadata": {},
   "outputs": [
    {
     "name": "stdout",
     "output_type": "stream",
     "text": [
      "The autoreload extension is already loaded. To reload it, use:\n",
      "  %reload_ext autoreload\n"
     ]
    }
   ],
   "source": [
    "import matplotlib.pyplot as plt\n",
    "from sklearn.pipeline import Pipeline\n",
    "from sklearn.compose import ColumnTransformer\n",
    "from sklearn.preprocessing import StandardScaler, OneHotEncoder\n",
    "import pandas as pd\n",
    "import numpy as np\n",
    "import optuna\n",
    "optuna.logging.set_verbosity(optuna.logging.WARNING)\n",
    "import sys\n",
    "\n",
    "\n",
    "sys.path.append('../scripts')\n",
    "import data\n",
    "import models\n",
    "import utils\n",
    "\n",
    "%load_ext autoreload\n",
    "%autoreload 2"
   ]
  },
  {
   "cell_type": "code",
   "execution_count": 90,
   "metadata": {},
   "outputs": [],
   "source": [
    "param_space_fair = {\n",
    "    \"min_child_weight\" : {\"type\" : \"float\", \"low\" : 0.01, \"high\" : 100, \"log\" : True},\n",
    "    \"n_estimators\" : {\"type\" : \"int\", \"low\" : 20, \"high\" : 50},\n",
    "    \"eta\" : {\"type\" : \"float\", \"low\" : 0.01, \"high\" : 0.5},\n",
    "    \"max_depth\" : {\"type\" : \"int\", \"low\" : 2, \"high\" : 10},\n",
    "    \"l2_weight\" : {\"type\" : \"float\", \"low\" : 0.01, \"high\" : 100, \"log\" : True},\n",
    "    \"fair_weight\" : {\"type\" : \"float\", \"low\" : 0.01, \"high\" : 10, \"log\" : True}\n",
    "}\n",
    "param_space_xgb =  {\n",
    "    \"min_child_weight\" : {\"type\" : \"float\", \"low\" : 0.01, \"high\" : 100, \"log\" : True},\n",
    "    \"n_estimators\" : {\"type\" : \"int\", \"low\" : 20, \"high\" : 50},\n",
    "    \"eta\" : {\"type\" : \"float\", \"low\" : 0.01, \"high\" : 0.5},\n",
    "    \"max_depth\" : {\"type\" : \"int\", \"low\" : 2, \"high\" : 10},\n",
    "    \"l2_weight\" : {\"type\" : \"float\", \"low\" : 0.01, \"high\" : 100, \"log\" : True},\n",
    "    \"fair_weight\" : {\"type\" : \"float\", \"low\" : 0, \"high\" : 0}\n",
    "}"
   ]
  },
  {
   "cell_type": "code",
   "execution_count": 69,
   "metadata": {},
   "outputs": [],
   "source": [
    "X_train, Y_train, X_val, Y_val, X_test, Y_test = data.get_fold(\"german2\", 0, 0)\n",
    "cat_features = [\n",
    "    \"CheckingAccount\",\n",
    "    \"CreditHistory\",\n",
    "    \"Purpose\",\n",
    "    \"SavingsAccount\",\n",
    "    \"EmploymentSince\",\n",
    "    \"Gender\",\n",
    "    \"OtherDebtors\",\n",
    "    \"Property\",\n",
    "    \"OtherInstallmentPlans\",\n",
    "    \"Housing\",\n",
    "    \"Job\",\n",
    "    \"Telephone\",\n",
    "    \"ForeignWorker\",\n",
    "]\n",
    "num_features = X_train.columns.difference(cat_features).tolist()\n",
    "\n",
    "# Define sensitive attribute from gender and age\n",
    "A_train = X_train.Gender + \"_\" + (X_train.Age > 50).astype(str)\n",
    "A_val = X_val.Gender + \"_\" + (X_val.Age > 50).astype(str)\n",
    "A_test = X_test.Gender + \"_\" + (X_test.Age > 50).astype(str)\n",
    "# create dict of sensitive attribute names and values\n",
    "sensitive_map = dict([\n",
    "    (attr, i)\n",
    "    for i, attr in enumerate(A_train.unique())\n",
    "])\n",
    "A_train = A_train.map(sensitive_map)\n",
    "A_val = A_val.map(sensitive_map)\n",
    "A_test = A_test.map(sensitive_map)"
   ]
  },
  {
   "cell_type": "code",
   "execution_count": 70,
   "metadata": {},
   "outputs": [],
   "source": [
    "col_trans = ColumnTransformer(\n",
    "    [\n",
    "    (\"numeric\", StandardScaler(), num_features),\n",
    "    (\"categorical\", OneHotEncoder(drop=\"if_binary\", sparse_output=False, handle_unknown=\"ignore\"), cat_features)\n",
    "    ], \n",
    "    verbose_feature_names_out=False,\n",
    ")\n",
    "col_trans.set_output(transform=\"pandas\")\n",
    "preprocess = Pipeline([\n",
    "    (\"preprocess\", col_trans)\n",
    "])\n",
    "preprocess.fit(X_train)\n",
    "X_train_preprocessed = preprocess.transform(X_train)\n",
    "X_val_preprocessed = preprocess.transform(X_val)\n",
    "X_test_preprocessed = preprocess.transform(X_test)\n",
    "X_train_preprocessed.insert(0, \"Sensitive\", A_train)\n",
    "X_val_preprocessed.insert(0, \"Sensitive\", A_val)\n",
    "X_test_preprocessed.insert(0, \"Sensitive\", A_test)"
   ]
  },
  {
   "cell_type": "code",
   "execution_count": 84,
   "metadata": {},
   "outputs": [],
   "source": [
    "def run_trial(\n",
    "        trial,\n",
    "        X_train,\n",
    "        Y_train,\n",
    "        X_val,\n",
    "        Y_val,\n",
    "        model_class,\n",
    "        param_space,\n",
    "        random_state = None\n",
    "):  \n",
    "    params = {}\n",
    "    for name, values in param_space.items():\n",
    "        if values[\"type\"] == \"int\":\n",
    "            values_cp = {n: v for n, v in values.items() if n != \"type\"}\n",
    "            params[name] = trial.suggest_int(name, **values_cp)\n",
    "        elif values[\"type\"] == \"categorical\":\n",
    "            values_cp = {n: v for n, v in values.items() if n != \"type\"}\n",
    "            params[name] = trial.suggest_categorical(name, **values_cp)\n",
    "        elif values[\"type\"] == \"float\":  # corrected this line\n",
    "            values_cp = {n: v for n, v in values.items() if n != \"type\"}\n",
    "            params[name] = trial.suggest_float(name, **values_cp)\n",
    "\n",
    "    params[\"seed\"] = random_state\n",
    "    model = model_class(**params)\n",
    "    model.fit(X_train, Y_train)\n",
    "    return model.score(X_val, Y_val)"
   ]
  },
  {
   "cell_type": "code",
   "execution_count": 87,
   "metadata": {},
   "outputs": [
    {
     "data": {
      "application/vnd.jupyter.widget-view+json": {
       "model_id": "d0382187ceb44ff09b3e48bd768677bc",
       "version_major": 2,
       "version_minor": 0
      },
      "text/plain": [
       "  0%|          | 0/100 [00:00<?, ?it/s]"
      ]
     },
     "metadata": {},
     "output_type": "display_data"
    }
   ],
   "source": [
    "study = optuna.create_study(direction=\"maximize\")\n",
    "objective = lambda trial : run_trial(trial, X_train_preprocessed, Y_train, X_val_preprocessed, Y_val, models.XtremeFair, param_space_fair)\n",
    "study.optimize(objective, n_trials=100, show_progress_bar=True)"
   ]
  },
  {
   "cell_type": "code",
   "execution_count": 89,
   "metadata": {},
   "outputs": [
    {
     "name": "stdout",
     "output_type": "stream",
     "text": [
      "score: 0.760\n",
      "equalized loss: 0.505\n"
     ]
    }
   ],
   "source": [
    "model = models.XtremeFair(**study.best_params)\n",
    "model.fit(X_train_preprocessed, Y_train)\n",
    "print(f\"score: {model.score(X_test_preprocessed, Y_test):.3f}\")\n",
    "print(f\"equalized loss: {utils.equalized_loss_score(Y_test, model.predict_proba(X_test_preprocessed)[:, 1], A_test):.3f}\")"
   ]
  },
  {
   "cell_type": "code",
   "execution_count": 91,
   "metadata": {},
   "outputs": [
    {
     "data": {
      "application/vnd.jupyter.widget-view+json": {
       "model_id": "91680a484e184884a493133f05546740",
       "version_major": 2,
       "version_minor": 0
      },
      "text/plain": [
       "  0%|          | 0/100 [00:00<?, ?it/s]"
      ]
     },
     "metadata": {},
     "output_type": "display_data"
    }
   ],
   "source": [
    "study = optuna.create_study(direction=\"maximize\")\n",
    "objective = lambda trial : run_trial(trial, X_train_preprocessed, Y_train, X_val_preprocessed, Y_val, models.XtremeFair, param_space_xgb)\n",
    "study.optimize(objective, n_trials=100, show_progress_bar=True)"
   ]
  },
  {
   "cell_type": "code",
   "execution_count": 93,
   "metadata": {},
   "outputs": [
    {
     "name": "stdout",
     "output_type": "stream",
     "text": [
      "score: 0.710\n",
      "equalized loss: 0.632\n"
     ]
    }
   ],
   "source": [
    "model = models.XtremeFair(**study.best_params)\n",
    "model.fit(X_train_preprocessed, Y_train)\n",
    "print(f\"score: {model.score(X_test_preprocessed, Y_test):.3f}\")\n",
    "print(f\"equalized loss: {utils.equalized_loss_score(Y_test, model.predict_proba(X_test_preprocessed)[:, 1], A_test):.3f}\")"
   ]
  }
 ],
 "metadata": {
  "kernelspec": {
   "display_name": "dual_fair_boost",
   "language": "python",
   "name": "python3"
  },
  "language_info": {
   "codemirror_mode": {
    "name": "ipython",
    "version": 3
   },
   "file_extension": ".py",
   "mimetype": "text/x-python",
   "name": "python",
   "nbconvert_exporter": "python",
   "pygments_lexer": "ipython3",
   "version": "3.8.17"
  }
 },
 "nbformat": 4,
 "nbformat_minor": 2
}
