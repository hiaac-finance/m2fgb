{
 "cells": [
  {
   "cell_type": "code",
   "execution_count": 1,
   "metadata": {},
   "outputs": [],
   "source": [
    "import sys\n",
    "sys.path.append(\"../scripts\")\n",
    "\n",
    "import data\n",
    "import utils\n",
    "import models\n",
    "import experiments\n",
    "\n",
    "import pandas as pd\n",
    "from sklearn.compose import ColumnTransformer\n",
    "from sklearn.pipeline import Pipeline\n",
    "from sklearn.preprocessing import StandardScaler, OneHotEncoder\n",
    "import optuna"
   ]
  },
  {
   "cell_type": "markdown",
   "metadata": {},
   "source": [
    "## Testing metric with one fold"
   ]
  },
  {
   "cell_type": "code",
   "execution_count": 61,
   "metadata": {},
   "outputs": [],
   "source": [
    "args = {\n",
    "    \"dataset\" : \"german\",\n",
    "    \"alpha\" : 0.1,\n",
    "    \"n_groups\" : 4,\n",
    "    \"model_name\" : \"M2FGB_eod\",\n",
    "    \"n_trials\" : 100,\n",
    "    \"thresh\" : \"ks\",\n",
    "    \"fairness_metric\" : \"min_bal_acc\"\n",
    "}"
   ]
  },
  {
   "cell_type": "code",
   "execution_count": 62,
   "metadata": {},
   "outputs": [],
   "source": [
    "X_train, Y_train, X_val, Y_val, X_test, Y_test = data.get_fold(\"german\", 0)\n",
    "A_train, A_val, A_test = experiments.get_subgroup_feature(\n",
    "    args[\"dataset\"], X_train, X_val, X_test, args[\"n_groups\"]\n",
    ")"
   ]
  },
  {
   "cell_type": "code",
   "execution_count": 63,
   "metadata": {},
   "outputs": [],
   "source": [
    "col_trans = ColumnTransformer(\n",
    "    [\n",
    "        (\"numeric\", StandardScaler(), data.NUM_FEATURES[args[\"dataset\"]]),\n",
    "        (\n",
    "            \"categorical\",\n",
    "            OneHotEncoder(\n",
    "                drop=\"if_binary\", sparse_output=False, handle_unknown=\"ignore\"\n",
    "            ),\n",
    "            data.CAT_FEATURES[args[\"dataset\"]],\n",
    "        ),\n",
    "    ],\n",
    "    verbose_feature_names_out=False,\n",
    ")\n",
    "col_trans.set_output(transform=\"pandas\")\n",
    "\n",
    "preprocess = Pipeline([(\"preprocess\", col_trans)])\n",
    "preprocess.fit(X_train)\n",
    "X_train = preprocess.transform(X_train)\n",
    "X_val = preprocess.transform(X_val)\n",
    "X_test = preprocess.transform(X_test)"
   ]
  },
  {
   "cell_type": "code",
   "execution_count": 64,
   "metadata": {},
   "outputs": [],
   "source": [
    "model_class = experiments.get_model(args[\"model_name\"])"
   ]
  },
  {
   "cell_type": "code",
   "execution_count": 65,
   "metadata": {},
   "outputs": [],
   "source": [
    "scorer = utils.get_combined_metrics_scorer(\n",
    "    alpha=args[\"alpha\"], performance_metric=\"bal_acc\", fairness_metric=\"eod\"\n",
    ")"
   ]
  },
  {
   "cell_type": "code",
   "execution_count": null,
   "metadata": {},
   "outputs": [],
   "source": [
    "study = optuna.create_study(direction=\"maximize\")\n",
    "objective = lambda trial: experiments.run_trial(\n",
    "    trial,\n",
    "    scorer,\n",
    "    X_train,\n",
    "    Y_train,\n",
    "    A_train,\n",
    "    X_val,\n",
    "    Y_val,\n",
    "    A_val,\n",
    "    model_class,\n",
    "    experiments.get_param_spaces(args[\"model_name\"]),\n",
    "    args,\n",
    ")\n",
    "study.optimize(objective, n_trials=args[\"n_trials\"])\n",
    "best_params = study.best_params.copy()"
   ]
  },
  {
   "cell_type": "code",
   "execution_count": null,
   "metadata": {},
   "outputs": [],
   "source": [
    "model = model_class(**study.best_params)\n",
    "model.fit(X_train, Y_train, A_train)\n",
    "y_val_score = model.predict_proba(X_val)[:, 1]\n",
    "thresh = utils.get_best_threshold(Y_val, y_val_score)\n",
    "y_val_pred = y_val_score > thresh\n",
    "y_test_score = model.predict_proba(X_test)[:, 1]\n",
    "y_test_pred = y_test_score > thresh"
   ]
  },
  {
   "cell_type": "code",
   "execution_count": 68,
   "metadata": {},
   "outputs": [
    {
     "name": "stdout",
     "output_type": "stream",
     "text": [
      "EOD: 0.00\n",
      "Min. Bal. Acc.: 1.00\n",
      "P(\\hat Y = 1): 0.00\n"
     ]
    },
    {
     "name": "stderr",
     "output_type": "stream",
     "text": [
      "/usr/local/lib/python3.10/dist-packages/sklearn/metrics/_classification.py:2458: UserWarning: y_pred contains classes not in y_true\n",
      "  warnings.warn(\"y_pred contains classes not in y_true\")\n"
     ]
    }
   ],
   "source": [
    "eod = utils.equal_opportunity_score(Y_val, y_val_pred, A_val)\n",
    "min_bal_acc = utils.min_balanced_accuracy(Y_val, y_val_pred, A_val)\n",
    "\n",
    "print(f\"EOD: {eod:.2f}\")\n",
    "print(f\"Min. Bal. Acc.: {min_bal_acc:.2f}\")\n",
    "print(f\"P(\\hat Y = 1): {y_test_pred.mean():.2f}\")"
   ]
  },
  {
   "cell_type": "code",
   "execution_count": null,
   "metadata": {},
   "outputs": [],
   "source": [
    "scorer = utils.get_combined_metrics_scorer(\n",
    "    alpha=args[\"alpha\"], performance_metric=\"bal_acc\", fairness_metric=\"min_bal_acc\"\n",
    ")\n",
    "study = optuna.create_study(direction=\"maximize\")\n",
    "objective = lambda trial: experiments.run_trial(\n",
    "    trial,\n",
    "    scorer,\n",
    "    X_train,\n",
    "    Y_train,\n",
    "    A_train,\n",
    "    X_val,\n",
    "    Y_val,\n",
    "    A_val,\n",
    "    model_class,\n",
    "    experiments.get_param_spaces(args[\"model_name\"]),\n",
    "    args,\n",
    ")\n",
    "study.optimize(objective, n_trials=args[\"n_trials\"])\n",
    "best_params = study.best_params.copy()"
   ]
  },
  {
   "cell_type": "code",
   "execution_count": null,
   "metadata": {},
   "outputs": [],
   "source": [
    "model = model_class(**study.best_params)\n",
    "model.fit(X_train, Y_train, A_train)\n",
    "y_val_score = model.predict_proba(X_val)[:, 1]\n",
    "thresh = utils.get_best_threshold(Y_val, y_val_score)\n",
    "y_val_pred = y_val_score > thresh\n",
    "y_test_score = model.predict_proba(X_test)[:, 1]\n",
    "y_test_pred = y_test_score > thresh"
   ]
  },
  {
   "cell_type": "code",
   "execution_count": 71,
   "metadata": {},
   "outputs": [
    {
     "name": "stdout",
     "output_type": "stream",
     "text": [
      "EOD: 0.40\n",
      "Min. Bal. Acc.: 0.21\n",
      "P(\\hat Y = 1): 0.61\n"
     ]
    },
    {
     "name": "stderr",
     "output_type": "stream",
     "text": [
      "/usr/local/lib/python3.10/dist-packages/sklearn/metrics/_classification.py:386: UserWarning: A single label was found in 'y_true' and 'y_pred'. For the confusion matrix to have the correct shape, use the 'labels' parameter to pass all known labels.\n",
      "  warnings.warn(\n"
     ]
    }
   ],
   "source": [
    "eod = utils.equal_opportunity_score(Y_val, y_val_pred, A_val)\n",
    "min_bal_acc = utils.min_balanced_accuracy(Y_val, y_val_pred, A_val)\n",
    "\n",
    "print(f\"EOD: {eod:.2f}\")\n",
    "print(f\"Min. Bal. Acc.: {min_bal_acc:.2f}\")\n",
    "print(f\"P(\\hat Y = 1): {y_test_pred.mean():.2f}\")"
   ]
  },
  {
   "cell_type": "markdown",
   "metadata": {},
   "source": [
    "## Tuning M²FGB and FairGBM with min_bal_acc"
   ]
  },
  {
   "cell_type": "code",
   "execution_count": null,
   "metadata": {},
   "outputs": [],
   "source": [
    "dataset = \"german\"\n",
    "alpha = 0.7\n",
    "model_name = \"M2FGB\"\n",
    "fairness_metric = \"min_bal_acc\"\n",
    "thresh = \"ks\"\n",
    "\n",
    "args = {\n",
    "    \"dataset\": dataset,\n",
    "    \"alpha\": alpha,\n",
    "    \"output_dir\": f\"../results/comparing_metrics/{dataset}/{model_name}_{alpha}_{fairness_metric}\",\n",
    "    \"model_name\": model_name,\n",
    "    \"n_trials\": 10,\n",
    "    \"n_groups\": 4,\n",
    "    \"thresh\" : thresh,\n",
    "    \"fairness_metric\": fairness_metric,\n",
    "}\n",
    "experiments.run_subgroup_experiment(args)\n",
    "\n",
    "\n",
    "dataset = \"german\"\n",
    "alpha = 0.7\n",
    "model_name = \"FairGBMClassifier\"\n",
    "fairness_metric = \"min_bal_acc\"\n",
    "thresh = \"ks\"\n",
    "\n",
    "args = {\n",
    "    \"dataset\": dataset,\n",
    "    \"alpha\": alpha,\n",
    "    \"output_dir\": f\"../results/comparing_metrics/{dataset}/{model_name}_{alpha}_{fairness_metric}\",\n",
    "    \"model_name\": model_name,\n",
    "    \"n_trials\": 10,\n",
    "    \"n_groups\": 4,\n",
    "    \"thresh\" : thresh,\n",
    "    \"fairness_metric\": fairness_metric,\n",
    "}\n",
    "experiments.run_subgroup_experiment(args)"
   ]
  },
  {
   "cell_type": "code",
   "execution_count": null,
   "metadata": {},
   "outputs": [],
   "source": [
    "dataset = \"adult\"\n",
    "alpha = 0.7\n",
    "model_name = \"M2FGB\"\n",
    "fairness_metric = \"min_bal_acc\"\n",
    "thresh = \"ks\"\n",
    "\n",
    "args = {\n",
    "    \"dataset\": dataset,\n",
    "    \"alpha\": alpha,\n",
    "    \"output_dir\": f\"../results/comparing_metrics/{dataset}/{model_name}_{alpha}_{fairness_metric}\",\n",
    "    \"model_name\": model_name,\n",
    "    \"n_trials\": 10,\n",
    "    \"n_groups\": 4,\n",
    "    \"thresh\" : thresh,\n",
    "    \"fairness_metric\": fairness_metric,\n",
    "}\n",
    "experiments.run_subgroup_experiment(args)\n",
    "\n",
    "\n",
    "\n",
    "dataset = \"adult\"\n",
    "alpha = 0.7\n",
    "model_name = \"FairGBMClassifier\"\n",
    "fairness_metric = \"min_bal_acc\"\n",
    "thresh = \"ks\"\n",
    "\n",
    "args = {\n",
    "    \"dataset\": dataset,\n",
    "    \"alpha\": alpha,\n",
    "    \"output_dir\": f\"../results/comparing_metrics/{dataset}/{model_name}_{alpha}_{fairness_metric}\",\n",
    "    \"model_name\": model_name,\n",
    "    \"n_trials\": 10,\n",
    "    \"n_groups\": 4,\n",
    "    \"thresh\" : thresh,\n",
    "    \"fairness_metric\": fairness_metric,\n",
    "}\n",
    "experiments.run_subgroup_experiment(args)"
   ]
  },
  {
   "cell_type": "code",
   "execution_count": 86,
   "metadata": {},
   "outputs": [
    {
     "name": "stdout",
     "output_type": "stream",
     "text": [
      "Results for german\n",
      "FairGBMClassifier\n",
      "\tMean bal_acc: 0.599 +- 0.113\n",
      "\tMean min bal_acc: 0.398 +- 0.188\n",
      "\tMean eod: 0.445 +- 0.290\n",
      "M2FGB\n",
      "\tMean bal_acc: 0.620 +- 0.054\n",
      "\tMean min bal_acc: 0.446 +- 0.184\n",
      "\tMean eod: 0.259 +- 0.270\n",
      "Results for adult\n",
      "FairGBMClassifier\n",
      "\tMean bal_acc: 0.764 +- 0.024\n",
      "\tMean min bal_acc: 0.727 +- 0.035\n",
      "\tMean eod: 0.158 +- 0.071\n",
      "M2FGB\n",
      "\tMean bal_acc: 0.796 +- 0.009\n",
      "\tMean min bal_acc: 0.729 +- 0.024\n",
      "\tMean eod: 0.195 +- 0.064\n"
     ]
    }
   ],
   "source": [
    "fairness_metric = \"min_bal_acc\"\n",
    "alpha = 0.5\n",
    "for dataset in [\"german\", \"adult\"]:\n",
    "    print(f\"Results for {dataset}\")\n",
    "    for model_name in [\"FairGBMClassifier\", \"M2FGB\"]:\n",
    "        df = pd.read_csv(f\"../results/comparing_metrics/{dataset}/{model_name}_{alpha}_{fairness_metric}/results.csv\")\n",
    "\n",
    "        print(model_name)\n",
    "\n",
    "        print(f\"\\tMean bal_acc: {df['bal_acc'].mean():.3f} +- {df['bal_acc'].std():.3f}\")\n",
    "        print(f\"\\tMean min bal_acc: {df['bal_acc_min'].mean():.3f} +- {df['bal_acc_min'].std():.3f}\")\n",
    "        print(f\"\\tMean eod: {df['eod'].abs().mean():.3f} +- {df['eod'].abs().std():.3f}\")"
   ]
  },
  {
   "cell_type": "markdown",
   "metadata": {},
   "source": [
    "## Experiment with many $\\alpha$"
   ]
  },
  {
   "cell_type": "code",
   "execution_count": null,
   "metadata": {},
   "outputs": [],
   "source": [
    "fairness_metric = \"min_bal_acc\"\n",
    "thresh = \"ks\"\n",
    "\n",
    "for dataset in [\"german\", \"adult\"]:\n",
    "    for alpha in [0.1, 0.2, 0.3, 0.4, 0.5, 0.6, 0.7, 0.8, 0.9, 1]:\n",
    "        for model_name in [\"M2FGB\", \"FairGBMClassifier\"]:\n",
    "            args = {\n",
    "                \"dataset\": dataset,\n",
    "                \"alpha\": alpha,\n",
    "                \"output_dir\": f\"../results/comparing_metrics/{dataset}/{model_name}_{alpha}_{fairness_metric}\",\n",
    "                \"model_name\": model_name,\n",
    "                \"n_trials\": 10,\n",
    "                \"n_groups\": 4,\n",
    "                \"thresh\" : thresh,\n",
    "                \"fairness_metric\": fairness_metric,\n",
    "            }\n",
    "            experiments.run_subgroup_experiment(args)"
   ]
  },
  {
   "cell_type": "code",
   "execution_count": 2,
   "metadata": {},
   "outputs": [
    {
     "data": {
      "image/png": "[encoded data removed]",
      "text/plain": [
       "<Figure size 800x400 with 2 Axes>"
      ]
     },
     "metadata": {},
     "output_type": "display_data"
    }
   ],
   "source": [
    "import pandas as pd\n",
    "import matplotlib.pyplot as plt\n",
    "\n",
    "colors = {\n",
    "    \"M2FGB\": \"blue\",\n",
    "    \"M2FGB_grad\" : \"green\",\n",
    "    \"FairGBMClassifier\": \"red\"\n",
    "}\n",
    "\n",
    "fig, axs = plt.subplots(nrows = 1, ncols = 2, figsize = (8, 4))\n",
    "\n",
    "fairness_metric = \"min_bal_acc\"\n",
    "thresh = \"ks\"\n",
    "\n",
    "for i, dataset in enumerate([\"german\", \"adult\"]):\n",
    "    for model_name in [\"M2FGB\", \"M2FGB_grad\", \"FairGBMClassifier\"]:\n",
    "        bal_acc_min = []\n",
    "        bal_acc = []\n",
    "        for alpha in [0.1, 0.2, 0.3, 0.4, 0.5, 0.6, 0.7, 0.8, 0.9, 1]:\n",
    "            df = pd.read_csv(f\"../results/comparing_metrics/{dataset}/{model_name}_{alpha}_{fairness_metric}/results.csv\")\n",
    "            bal_acc_min.append(df.bal_acc_min.mean())\n",
    "            bal_acc.append(df.bal_acc.mean())\n",
    "        axs[i].scatter(\n",
    "            x = bal_acc_min,\n",
    "            y = bal_acc,\n",
    "            color = colors[model_name],\n",
    "            label = f\"{model_name}\"\n",
    "        )\n",
    "\n",
    "    axs[i].set_xlabel(\"Min. Bal. Acc.\")\n",
    "    axs[i].set_ylabel(\"Bal. Acc.\")\n",
    "    axs[i].set_title(dataset)\n",
    "    axs[i].legend()\n",
    "plt.show()\n"
   ]
  },
  {
   "cell_type": "code",
   "execution_count": 13,
   "metadata": {},
   "outputs": [
    {
     "data": {
      "image/png": "[encoded data removed]",
      "text/plain": [
       "<Figure size 800x400 with 2 Axes>"
      ]
     },
     "metadata": {},
     "output_type": "display_data"
    }
   ],
   "source": [
    "import pandas as pd\n",
    "import matplotlib.pyplot as plt\n",
    "\n",
    "colors = {\n",
    "    \"M2FGB\": \"blue\",\n",
    "    \"FairGBMClassifier\": \"red\"\n",
    "}\n",
    "\n",
    "fig, axs = plt.subplots(nrows = 1, ncols = 2, figsize = (8, 4))\n",
    "\n",
    "fairness_metric = \"min_bal_acc\"\n",
    "thresh = \"ks\"\n",
    "\n",
    "for i, dataset in enumerate([\"german\", \"adult\"]):\n",
    "    for model_name in [\"M2FGB\", \"FairGBMClassifier\"]:\n",
    "        bal_acc_min = []\n",
    "        bal_acc = []\n",
    "        for alpha in [0.1, 0.2, 0.3, 0.4, 0.5, 0.6, 0.7, 0.8, 0.9, 1]:\n",
    "            df = pd.read_csv(f\"../results/comparing_metrics/{dataset}/{model_name}_{alpha}_{fairness_metric}/results.csv\")\n",
    "            bal_acc_min.append(df.bal_acc_min.mean())\n",
    "            bal_acc.append(df.eod.abs().mean())\n",
    "        axs[i].scatter(\n",
    "            x = bal_acc_min,\n",
    "            y = bal_acc,\n",
    "            color = colors[model_name],\n",
    "            label = f\"{model_name}\"\n",
    "        )\n",
    "\n",
    "    axs[i].set_xlabel(\"EOD\")\n",
    "    axs[i].set_ylabel(\"Bal. Acc.\")\n",
    "    axs[i].set_title(dataset)\n",
    "    axs[i].legend()\n",
    "plt.show()\n"
   ]
  }
 ],
 "metadata": {
  "kernelspec": {
   "display_name": "Python 3 (ipykernel)",
   "language": "python",
   "name": "python3"
  },
  "language_info": {
   "codemirror_mode": {
    "name": "ipython",
    "version": 3
   },
   "file_extension": ".py",
   "mimetype": "text/x-python",
   "name": "python",
   "nbconvert_exporter": "python",
   "pygments_lexer": "ipython3",
   "version": "3.10.12"
  }
 },
 "nbformat": 4,
 "nbformat_minor": 2
}
