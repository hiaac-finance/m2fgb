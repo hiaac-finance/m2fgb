{
 "cells": [
  {
   "cell_type": "code",
   "execution_count": 2,
   "metadata": {},
   "outputs": [
    {
     "name": "stdout",
     "output_type": "stream",
     "text": [
      "The autoreload extension is already loaded. To reload it, use:\n",
      "  %reload_ext autoreload\n"
     ]
    }
   ],
   "source": [
    "import sys\n",
    "sys.path.append(\"../MMPF\")\n",
    "sys.path.append(\"../scripts\")\n",
    "\n",
    "import data\n",
    "import utils\n",
    "import experiments_new\n",
    "import models\n",
    "\n",
    "\n",
    "from sklearn.compose import ColumnTransformer\n",
    "from sklearn.pipeline import Pipeline\n",
    "from sklearn.preprocessing import StandardScaler, OneHotEncoder\n",
    "from sklearn.linear_model import LogisticRegression\n",
    "\n",
    "import numpy as np\n",
    "\n",
    "%load_ext autoreload\n",
    "%autoreload 2"
   ]
  },
  {
   "cell_type": "code",
   "execution_count": 3,
   "metadata": {},
   "outputs": [
    {
     "name": "stdout",
     "output_type": "stream",
     "text": [
      "{'1': 0, '2': 1, '4': 2, '3': 3}\n"
     ]
    }
   ],
   "source": [
    "dataset = \"acsincome\"\n",
    "X_train, Y_train, X_val, Y_val, X_test, Y_test =  data.get_fold(dataset, 5, 10, 0)\n",
    "A_train, A_val, A_test = experiments_new.get_subgroup_feature(dataset, X_train, X_val, X_test, 4)\n",
    "col_trans = ColumnTransformer(\n",
    "    [\n",
    "        (\"numeric\", StandardScaler(), data.NUM_FEATURES[dataset]),\n",
    "        (\n",
    "            \"categorical\",\n",
    "            OneHotEncoder(\n",
    "                drop=\"if_binary\", sparse_output=False, handle_unknown=\"ignore\"\n",
    "            ),\n",
    "            data.CAT_FEATURES[dataset],\n",
    "        ),\n",
    "    ],\n",
    "    verbose_feature_names_out=False,\n",
    ")\n",
    "col_trans.set_output(transform=\"pandas\")\n",
    "\n",
    "preprocess = Pipeline([(\"preprocess\", col_trans)])\n",
    "preprocess.fit(X_train)\n",
    "X_train = preprocess.transform(X_train)\n",
    "X_val = preprocess.transform(X_val)\n",
    "X_test = preprocess.transform(X_test)"
   ]
  },
  {
   "cell_type": "code",
   "execution_count": null,
   "metadata": {},
   "outputs": [],
   "source": [
    "m = models.MinimaxPareto(n_iterations = 10, max_iter = 10)\n",
    "m.fit(X_train, Y_train, A_train)"
   ]
  }
 ],
 "metadata": {
  "kernelspec": {
   "display_name": "Python 3 (ipykernel)",
   "language": "python",
   "name": "python3"
  }
 },
 "nbformat": 4,
 "nbformat_minor": 2
}
