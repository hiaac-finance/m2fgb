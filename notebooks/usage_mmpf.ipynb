{
 "cells": [
  {
   "cell_type": "code",
   "execution_count": 2,
   "metadata": {},
   "outputs": [
    {
     "name": "stdout",
     "output_type": "stream",
     "text": [
      "The autoreload extension is already loaded. To reload it, use:\n",
      "  %reload_ext autoreload\n"
     ]
    }
   ],
   "source": [
    "import sys\n",
    "sys.path.append(\"../MMPF\")\n",
    "sys.path.append(\"../scripts\")\n",
    "\n",
    "import data\n",
    "import models\n",
    "\n",
    "\n",
    "\n",
    "%load_ext autoreload\n",
    "%autoreload 2"
   ]
  },
  {
   "cell_type": "code",
   "execution_count": null,
   "metadata": {},
   "outputs": [],
   "source": [
    "dataset = \"acsincome\"\n",
    "n_groups = 8\n",
    "fold = 0\n",
    "(\n",
    "        X_train,\n",
    "        A_train,\n",
    "        Y_train,\n",
    "        X_val,\n",
    "        A_val,\n",
    "        Y_val,\n",
    "        X_test,\n",
    "        A_test,\n",
    "        Y_test,\n",
    ") = data.get_strat_split(dataset, n_groups, 20)"
   ]
  },
  {
   "cell_type": "code",
   "execution_count": null,
   "metadata": {},
   "outputs": [],
   "source": [
    "m = models.MinimaxPareto(n_iterations = 10, max_iter = 10)\n",
    "m.fit(X_train, Y_train, A_train)"
   ]
  }
 ],
 "metadata": {
  "kernelspec": {
   "display_name": "Python 3 (ipykernel)",
   "language": "python",
   "name": "python3"
  }
 },
 "nbformat": 4,
 "nbformat_minor": 2
}
